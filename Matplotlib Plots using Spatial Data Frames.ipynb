{
 "cells": [
  {
   "cell_type": "code",
   "execution_count": 1,
   "metadata": {},
   "outputs": [],
   "source": [
    "import arcpy\n",
    "from arcgis.gis import GIS\n",
    "from arcgis.features import SpatialDataFrame\n",
    "import matplotlib.pyplot as plt"
   ]
  },
  {
   "cell_type": "code",
   "execution_count": 2,
   "metadata": {},
   "outputs": [],
   "source": [
    "# Define your working directory\n",
    "\n",
    "arcpy.env.workspace = \"data/making_graphs_in_arcgis_pro.gdb\""
   ]
  },
  {
   "cell_type": "code",
   "execution_count": 3,
   "metadata": {},
   "outputs": [
    {
     "name": "stdout",
     "output_type": "stream",
     "text": [
      "['main_election']\n"
     ]
    }
   ],
   "source": [
    "# List the layers in your working directory\n",
    "\n",
    "fclist = arcpy.ListFeatureClasses()\n",
    "print(fclist)"
   ]
  },
  {
   "cell_type": "code",
   "execution_count": 4,
   "metadata": {},
   "outputs": [
    {
     "name": "stderr",
     "output_type": "stream",
     "text": [
      "C:\\Program Files\\ArcGIS\\Pro\\bin\\Python\\envs\\arcgispro-py3\\lib\\site-packages\\arcgis\\features\\_data\\geodataset\\geodataframe.py:221: UserWarning: SpatialDataFrame has been deprecated.  Please switch to the GeoAccessor/GeoSeriesAccessor.\n",
      "  warnings.warn(\"SpatialDataFrame has been deprecated.  Please switch to the GeoAccessor/GeoSeriesAccessor.\")\n"
     ]
    }
   ],
   "source": [
    "# Load the data into a Spatially Enabled Data Frame\n",
    "\n",
    "sdf = SpatialDataFrame.from_featureclass('main_election')"
   ]
  },
  {
   "cell_type": "code",
   "execution_count": 5,
   "metadata": {},
   "outputs": [
    {
     "data": {
      "text/html": [
       "<div>\n",
       "<style scoped>\n",
       "    .dataframe tbody tr th:only-of-type {\n",
       "        vertical-align: middle;\n",
       "    }\n",
       "\n",
       "    .dataframe tbody tr th {\n",
       "        vertical-align: top;\n",
       "    }\n",
       "\n",
       "    .dataframe thead th {\n",
       "        text-align: right;\n",
       "    }\n",
       "</style>\n",
       "<table border=\"1\" class=\"dataframe\">\n",
       "  <thead>\n",
       "    <tr style=\"text-align: right;\">\n",
       "      <th></th>\n",
       "      <th>OBJECTID</th>\n",
       "      <th>STATEFP</th>\n",
       "      <th>COUNTYFP</th>\n",
       "      <th>COUNTYNS</th>\n",
       "      <th>AFFGEOID</th>\n",
       "      <th>GEOID</th>\n",
       "      <th>NAME</th>\n",
       "      <th>LSAD</th>\n",
       "      <th>ALAND</th>\n",
       "      <th>AWATER</th>\n",
       "      <th>...</th>\n",
       "      <th>gop_2012_prc</th>\n",
       "      <th>dem_2012_prc</th>\n",
       "      <th>gop_minus_dem_prc_2012</th>\n",
       "      <th>gop_2016_votes</th>\n",
       "      <th>dem_2016_votes</th>\n",
       "      <th>totalvotes_2016</th>\n",
       "      <th>gop_2016_prc</th>\n",
       "      <th>dem_2016_prc</th>\n",
       "      <th>gop_minus_dem_prc_2016</th>\n",
       "      <th>SHAPE</th>\n",
       "    </tr>\n",
       "  </thead>\n",
       "  <tbody>\n",
       "    <tr>\n",
       "      <td>0</td>\n",
       "      <td>1</td>\n",
       "      <td>39</td>\n",
       "      <td>131</td>\n",
       "      <td>01074078</td>\n",
       "      <td>0500000US39131</td>\n",
       "      <td>39131</td>\n",
       "      <td>Pike</td>\n",
       "      <td>06</td>\n",
       "      <td>1140324458</td>\n",
       "      <td>9567612</td>\n",
       "      <td>...</td>\n",
       "      <td>49.09</td>\n",
       "      <td>49.08</td>\n",
       "      <td>0.01</td>\n",
       "      <td>7902.0</td>\n",
       "      <td>3539.0</td>\n",
       "      <td>11879.0</td>\n",
       "      <td>66.52</td>\n",
       "      <td>29.79</td>\n",
       "      <td>36.73</td>\n",
       "      <td>{'rings': [[[-83.35353099999998, 39.1975850000...</td>\n",
       "    </tr>\n",
       "    <tr>\n",
       "      <td>1</td>\n",
       "      <td>2</td>\n",
       "      <td>46</td>\n",
       "      <td>003</td>\n",
       "      <td>01266983</td>\n",
       "      <td>0500000US46003</td>\n",
       "      <td>46003</td>\n",
       "      <td>Aurora</td>\n",
       "      <td>06</td>\n",
       "      <td>1834813753</td>\n",
       "      <td>11201379</td>\n",
       "      <td>...</td>\n",
       "      <td>57.43</td>\n",
       "      <td>39.71</td>\n",
       "      <td>17.72</td>\n",
       "      <td>974.0</td>\n",
       "      <td>340.0</td>\n",
       "      <td>1407.0</td>\n",
       "      <td>69.23</td>\n",
       "      <td>24.16</td>\n",
       "      <td>45.07</td>\n",
       "      <td>{'rings': [[[-98.80777099999995, 43.9352230000...</td>\n",
       "    </tr>\n",
       "    <tr>\n",
       "      <td>2</td>\n",
       "      <td>3</td>\n",
       "      <td>55</td>\n",
       "      <td>035</td>\n",
       "      <td>01581077</td>\n",
       "      <td>0500000US55035</td>\n",
       "      <td>55035</td>\n",
       "      <td>Eau Claire</td>\n",
       "      <td>06</td>\n",
       "      <td>1652211310</td>\n",
       "      <td>18848512</td>\n",
       "      <td>...</td>\n",
       "      <td>42.43</td>\n",
       "      <td>55.95</td>\n",
       "      <td>-13.52</td>\n",
       "      <td>23311.0</td>\n",
       "      <td>27294.0</td>\n",
       "      <td>54885.0</td>\n",
       "      <td>42.47</td>\n",
       "      <td>49.73</td>\n",
       "      <td>-7.26</td>\n",
       "      <td>{'rings': [[[-91.65045499999997, 44.8559510000...</td>\n",
       "    </tr>\n",
       "    <tr>\n",
       "      <td>3</td>\n",
       "      <td>4</td>\n",
       "      <td>72</td>\n",
       "      <td>145</td>\n",
       "      <td>01804553</td>\n",
       "      <td>0500000US72145</td>\n",
       "      <td>72145</td>\n",
       "      <td>Vega Baja</td>\n",
       "      <td>13</td>\n",
       "      <td>118766803</td>\n",
       "      <td>57805868</td>\n",
       "      <td>...</td>\n",
       "      <td>NaN</td>\n",
       "      <td>NaN</td>\n",
       "      <td>NaN</td>\n",
       "      <td>NaN</td>\n",
       "      <td>NaN</td>\n",
       "      <td>NaN</td>\n",
       "      <td>NaN</td>\n",
       "      <td>NaN</td>\n",
       "      <td>NaN</td>\n",
       "      <td>{'rings': [[[-66.44898899999998, 18.3872140000...</td>\n",
       "    </tr>\n",
       "    <tr>\n",
       "      <td>4</td>\n",
       "      <td>5</td>\n",
       "      <td>48</td>\n",
       "      <td>259</td>\n",
       "      <td>01383915</td>\n",
       "      <td>0500000US48259</td>\n",
       "      <td>48259</td>\n",
       "      <td>Kendall</td>\n",
       "      <td>06</td>\n",
       "      <td>1715747531</td>\n",
       "      <td>1496797</td>\n",
       "      <td>...</td>\n",
       "      <td>81.58</td>\n",
       "      <td>17.11</td>\n",
       "      <td>64.47</td>\n",
       "      <td>15700.0</td>\n",
       "      <td>3643.0</td>\n",
       "      <td>20120.0</td>\n",
       "      <td>78.03</td>\n",
       "      <td>18.11</td>\n",
       "      <td>59.92</td>\n",
       "      <td>{'rings': [[[-98.92014699999999, 30.1382900000...</td>\n",
       "    </tr>\n",
       "  </tbody>\n",
       "</table>\n",
       "<p>5 rows × 42 columns</p>\n",
       "</div>"
      ],
      "text/plain": [
       "   OBJECTID STATEFP COUNTYFP  COUNTYNS        AFFGEOID  GEOID        NAME  \\\n",
       "0         1      39      131  01074078  0500000US39131  39131        Pike   \n",
       "1         2      46      003  01266983  0500000US46003  46003      Aurora   \n",
       "2         3      55      035  01581077  0500000US55035  55035  Eau Claire   \n",
       "3         4      72      145  01804553  0500000US72145  72145   Vega Baja   \n",
       "4         5      48      259  01383915  0500000US48259  48259     Kendall   \n",
       "\n",
       "  LSAD       ALAND    AWATER  ... gop_2012_prc  dem_2012_prc  \\\n",
       "0   06  1140324458   9567612  ...        49.09         49.08   \n",
       "1   06  1834813753  11201379  ...        57.43         39.71   \n",
       "2   06  1652211310  18848512  ...        42.43         55.95   \n",
       "3   13   118766803  57805868  ...          NaN           NaN   \n",
       "4   06  1715747531   1496797  ...        81.58         17.11   \n",
       "\n",
       "   gop_minus_dem_prc_2012  gop_2016_votes  dem_2016_votes  totalvotes_2016  \\\n",
       "0                    0.01          7902.0          3539.0          11879.0   \n",
       "1                   17.72           974.0           340.0           1407.0   \n",
       "2                  -13.52         23311.0         27294.0          54885.0   \n",
       "3                     NaN             NaN             NaN              NaN   \n",
       "4                   64.47         15700.0          3643.0          20120.0   \n",
       "\n",
       "   gop_2016_prc  dem_2016_prc  gop_minus_dem_prc_2016  \\\n",
       "0         66.52         29.79                   36.73   \n",
       "1         69.23         24.16                   45.07   \n",
       "2         42.47         49.73                   -7.26   \n",
       "3           NaN           NaN                     NaN   \n",
       "4         78.03         18.11                   59.92   \n",
       "\n",
       "                                               SHAPE  \n",
       "0  {'rings': [[[-83.35353099999998, 39.1975850000...  \n",
       "1  {'rings': [[[-98.80777099999995, 43.9352230000...  \n",
       "2  {'rings': [[[-91.65045499999997, 44.8559510000...  \n",
       "3  {'rings': [[[-66.44898899999998, 18.3872140000...  \n",
       "4  {'rings': [[[-98.92014699999999, 30.1382900000...  \n",
       "\n",
       "[5 rows x 42 columns]"
      ]
     },
     "execution_count": 5,
     "metadata": {},
     "output_type": "execute_result"
    }
   ],
   "source": [
    "# Look at the first five rows\n",
    "\n",
    "sdf.head()"
   ]
  },
  {
   "cell_type": "code",
   "execution_count": 6,
   "metadata": {},
   "outputs": [
    {
     "data": {
      "text/plain": [
       "Index(['OBJECTID', 'STATEFP', 'COUNTYFP', 'COUNTYNS', 'AFFGEOID', 'GEOID',\n",
       "       'NAME', 'LSAD', 'ALAND', 'AWATER', 'FIPS', 'gop_2000_votes',\n",
       "       'dem_2000_votes', 'totalvotes_2000', 'gop_2000_prc', 'dem_2000_prc',\n",
       "       'gop_minus_dem_prc_2000', 'gop_2004_votes', 'dem_2004_votes',\n",
       "       'totalvotes_2004', 'gop_2004_prc', 'dem_2004_prc',\n",
       "       'gop_minus_dem_prc_2004', 'gop_2008_votes', 'dem_2008_votes',\n",
       "       'totalvotes_2008', 'gop_2008_prc', 'dem_2008_prc',\n",
       "       'gop_minus_dem_prc_2008', 'gop_2012_votes', 'dem_2012_votes',\n",
       "       'totalvotes_2012', 'gop_2012_prc', 'dem_2012_prc',\n",
       "       'gop_minus_dem_prc_2012', 'gop_2016_votes', 'dem_2016_votes',\n",
       "       'totalvotes_2016', 'gop_2016_prc', 'dem_2016_prc',\n",
       "       'gop_minus_dem_prc_2016', 'SHAPE'],\n",
       "      dtype='object')"
      ]
     },
     "execution_count": 6,
     "metadata": {},
     "output_type": "execute_result"
    }
   ],
   "source": [
    "# Print the columns to the screen\n",
    "\n",
    "sdf.columns"
   ]
  },
  {
   "cell_type": "markdown",
   "metadata": {},
   "source": [
    "# Making Plots"
   ]
  },
  {
   "cell_type": "markdown",
   "metadata": {},
   "source": [
    "One simple plot you can make is a scatterplot, to visualize the connections between variables."
   ]
  },
  {
   "cell_type": "code",
   "execution_count": 7,
   "metadata": {},
   "outputs": [
    {
     "data": {
      "image/png": "[encoded data removed]",
      "text/plain": [
       "<Figure size 432x288 with 1 Axes>"
      ]
     },
     "metadata": {
      "needs_background": "light"
     },
     "output_type": "display_data"
    }
   ],
   "source": [
    "plt.scatter(sdf.gop_2000_prc,sdf.gop_2004_prc,s=sdf.totalvotes_2000/5000,cmap='bwr',edgecolors='k')\n",
    "plt.xlabel('GOP 2000 (prc)')\n",
    "plt.ylabel('GOP 2004 (prc)')\n",
    "\n",
    "# Save figures this way:\n",
    "plt.savefig('out/my_figure.png',dpi=300)"
   ]
  },
  {
   "cell_type": "code",
   "execution_count": 8,
   "metadata": {},
   "outputs": [
    {
     "name": "stderr",
     "output_type": "stream",
     "text": [
      "C:\\Program Files\\ArcGIS\\Pro\\bin\\Python\\envs\\arcgispro-py3\\lib\\site-packages\\numpy\\lib\\histograms.py:824: RuntimeWarning: invalid value encountered in greater_equal\n",
      "  keep = (tmp_a >= first_edge)\n",
      "C:\\Program Files\\ArcGIS\\Pro\\bin\\Python\\envs\\arcgispro-py3\\lib\\site-packages\\numpy\\lib\\histograms.py:825: RuntimeWarning: invalid value encountered in less_equal\n",
      "  keep &= (tmp_a <= last_edge)\n"
     ]
    },
    {
     "data": {
      "image/png": "[encoded data removed]",
      "text/plain": [
       "<Figure size 432x288 with 1 Axes>"
      ]
     },
     "metadata": {
      "needs_background": "light"
     },
     "output_type": "display_data"
    }
   ],
   "source": [
    "# You can also create histograms of the data\n",
    "\n",
    "_ = plt.hist(sdf.gop_2000_prc,bins=20)\n",
    "plt.xticks([25,50,75])\n",
    "plt.grid('on')"
   ]
  },
  {
   "cell_type": "markdown",
   "metadata": {},
   "source": [
    "See https://matplotlib.org/gallery/index.html for more kinds of plots that you can make!  Here's one of my favorites:"
   ]
  },
  {
   "cell_type": "code",
   "execution_count": 9,
   "metadata": {},
   "outputs": [],
   "source": [
    "import numpy as np\n",
    "from matplotlib.sankey import Sankey"
   ]
  },
  {
   "cell_type": "code",
   "execution_count": 10,
   "metadata": {},
   "outputs": [
    {
     "data": {
      "image/png": "[encoded data removed]",
      "text/plain": [
       "<Figure size 432x288 with 1 Axes>"
      ]
     },
     "metadata": {},
     "output_type": "display_data"
    }
   ],
   "source": [
    "_ = Sankey(flows=[0.25, 0.15, 0.60, -0.20, -0.15, -0.05, -0.50, -0.10],\n",
    "       labels=['', '', '', 'First', 'Second', 'Third', 'Fourth', 'Fifth'],\n",
    "       orientations=[-1, 1, 0, 1, 1, 1, 0, -1]).finish()\n",
    "_ = plt.axis('off')"
   ]
  }
 ],
 "metadata": {
  "kernelspec": {
   "display_name": "Python 3",
   "language": "python",
   "name": "python3"
  },
  "language_info": {
   "codemirror_mode": {
    "name": "ipython",
    "version": 3
   },
   "file_extension": ".py",
   "mimetype": "text/x-python",
   "name": "python",
   "nbconvert_exporter": "python",
   "pygments_lexer": "ipython3",
   "version": "3.6.9"
  }
 },
 "nbformat": 4,
 "nbformat_minor": 2
}
