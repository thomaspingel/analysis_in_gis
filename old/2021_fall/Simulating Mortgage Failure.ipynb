{
 "cells": [
  {
   "cell_type": "markdown",
   "metadata": {},
   "source": [
    "# Introduction"
   ]
  },
  {
   "cell_type": "markdown",
   "metadata": {},
   "source": [
    "In this notebook, we'll take a very brief look at simulation, and how it can help in quantitative analysis of a problem.  Later, we'll look at spatial contexts, but the purpose here is only to:\n",
    "<ul>\n",
    "    <li>familiarize you with notebooks in general,</li>\n",
    "    <li>introduce you to numpy, and random number generation,</li>\n",
    "    <li>and make a simple simulation to estimate mortage failure rates</li>\n",
    "</ul>"
   ]
  },
  {
   "cell_type": "markdown",
   "metadata": {},
   "source": [
    "# Jupyter Notebooks"
   ]
  },
  {
   "cell_type": "markdown",
   "metadata": {},
   "source": [
    "Jupyter Notebooks are way to interactively write programs.  While we'll use notebooks to write Python, you can use them to write in any number of languages."
   ]
  },
  {
   "cell_type": "markdown",
   "metadata": {},
   "source": [
    "Jupyter has <b>cells</b> or <b>code blocks</b>.  The open space lets you write text or programs.  If you're writing text, we indicate that the cell is a <b>markdown</b> cell.  You can use the GUI above to declare a cell a markdown cell, or you can use hotkeys.  You'll get more familiar with these as you go."
   ]
  },
  {
   "cell_type": "markdown",
   "metadata": {},
   "source": [
    "If you click into a codeblock, you can also also observe the color.  If it's green, you're currently editing.  If it's blue, you can enter the <b>command mode</b> where you can do things like change the type of cell from markdown to a <b>code</b> cell.  If you hit <b>escape</b> you change from editing to command mode.  Go to the <b>help</b> menu above and choose <b>keyboard shortcuts</b>.  These are handy keys to do things like insert blocks, run code blocks, and so on.  \n",
    "\n",
    "<b>Before you begin, rename this file by clicking on the title at the top, and adding your last name to the beginning of the filename.  You'll upload this file later for credit.</b>"
   ]
  },
  {
   "cell_type": "markdown",
   "metadata": {},
   "source": [
    "Let's try writing some simple code, just to see how Jupyter works."
   ]
  },
  {
   "cell_type": "code",
   "execution_count": null,
   "metadata": {},
   "outputs": [],
   "source": [
    "# Comments work just as before\n",
    "# Hit shift-enter to run this code\n",
    "\n",
    "x = 5\n",
    "print(x)"
   ]
  },
  {
   "cell_type": "code",
   "execution_count": null,
   "metadata": {},
   "outputs": [],
   "source": [
    "a = 2\n",
    "b = 9\n",
    "c = a + b\n",
    "print(c)"
   ]
  },
  {
   "cell_type": "code",
   "execution_count": null,
   "metadata": {},
   "outputs": [],
   "source": [
    "for i in range(10):\n",
    "    print(i**2)"
   ]
  },
  {
   "cell_type": "markdown",
   "metadata": {},
   "source": [
    "<b>(1) Play along!  Write 8 codeblocks worth of simple python code like you see above, and run them.</b>"
   ]
  },
  {
   "cell_type": "markdown",
   "metadata": {},
   "source": [
    "# NumPy, SciPy, and Matplotlib"
   ]
  },
  {
   "cell_type": "markdown",
   "metadata": {},
   "source": [
    "One of the handier toolkits in Python is <a href=\"https://en.wikipedia.org/wiki/NumPy\" target=\"_blank\">NumPy</a> (for simplicity, we'll drop the mixed case from here on out, and just call it numpy).  Numpy is a suite of tools for performing all types of calculation, particularly involving arrays and matrices.  It is the backbone of <a href=\"https://en.wikipedia.org/wiki/SciPy\" target=\"_blank\">SciPy</a> which includes many other components, including statistical processing.  <a href=\"https://en.wikipedia.org/wiki/Matplotlib\" target=\"_blank\">Matplotlib</a> is the third package we'll see today.  It's used to graph data."
   ]
  },
  {
   "cell_type": "code",
   "execution_count": null,
   "metadata": {},
   "outputs": [],
   "source": [
    "# We load these with import statements.  These are some typical commands, and note each's slightly unique form:\n",
    "\n",
    "import numpy as np\n",
    "from scipy import stats\n",
    "import matplotlib.pyplot as plt"
   ]
  },
  {
   "cell_type": "markdown",
   "metadata": {},
   "source": [
    "Numpy's great benefit is that it allows us to add, subtract, multiply, <b>manipulate</b>, arrays as if they were single variables:"
   ]
  },
  {
   "cell_type": "code",
   "execution_count": null,
   "metadata": {},
   "outputs": [],
   "source": [
    "a = np.array([1,6,9,10])\n",
    "b = np.array([5,2,4,12])\n",
    "print(a+b)\n",
    "print(a-b)\n",
    "print(a*b)\n",
    "print(a**3)"
   ]
  },
  {
   "cell_type": "markdown",
   "metadata": {},
   "source": [
    "<b>(2) Play along! Create five different arrays, at least three of the same length (i.e, with the same number of <u>elements</u>), and perform some kind of basic calculation on them.  What happens if you try to add/subtract/multiply two arrays of different length?</b>"
   ]
  },
  {
   "cell_type": "markdown",
   "metadata": {},
   "source": [
    "## Generating random numbers"
   ]
  },
  {
   "cell_type": "markdown",
   "metadata": {},
   "source": [
    "We'll use numpy later as part of a way to analyze rasters.  But for now, let's take a look at one of the useful features for modeling: random numbers.\n",
    "\n",
    "Random number generators are crucial for modeling.  They let us take deterministic models, where everything is known, and add a layer of unpredictability.  There are many random number generators in numpy, but we'll use two: a <a href=\"https://docs.scipy.org/doc/numpy-1.14.1/reference/generated/numpy.random.rand.html#numpy.random.rand\" target=\"_blank\">uniform random number generator</a>, and a <a href=\"https://docs.scipy.org/doc/numpy-1.14.1/reference/generated/numpy.random.randn.html#numpy.random.randn\" target=\"_blank\">normal distribution random number generator</a>."
   ]
  },
  {
   "cell_type": "code",
   "execution_count": null,
   "metadata": {},
   "outputs": [],
   "source": [
    "# Run this code block several times.\n",
    "# Hitting control-enter instead of shift-enter will keep you focused on the same codeblock instead of advancing to the next.\n",
    "\n",
    "x = np.random.rand(1)\n",
    "print(x)"
   ]
  },
  {
   "cell_type": "markdown",
   "metadata": {},
   "source": [
    "<b>(3) Play along!  What happens when you change the number from 1 to something else?  What's the largest number that got generated?  What's the smallest?  What can you infer about the range of numbers that can be generated with this function?</b>"
   ]
  },
  {
   "cell_type": "markdown",
   "metadata": {},
   "source": [
    "<b>(4) Play along!  Generate two arrays (a and b) of lenth 10, and show their sum, difference, and product.</b>"
   ]
  },
  {
   "cell_type": "markdown",
   "metadata": {},
   "source": [
    "You can use greater than, less than, and equality to make <b>tests</b> of the data."
   ]
  },
  {
   "cell_type": "code",
   "execution_count": null,
   "metadata": {},
   "outputs": [],
   "source": [
    "x = np.random.rand(100)\n",
    "print(x<.5)"
   ]
  },
  {
   "cell_type": "code",
   "execution_count": null,
   "metadata": {},
   "outputs": [],
   "source": [
    "# How many would you expect to be greater than .5?  Run this code block many times, and observe the results.  \n",
    "\n",
    "x = np.random.rand(100)\n",
    "\n",
    "# You can \n",
    "print(sum(x>.5))\n",
    "print(np.sum(x>.5))"
   ]
  },
  {
   "cell_type": "markdown",
   "metadata": {},
   "source": [
    "<b>(5) Play along!  How many times did you run the code?  Did the results conform to your expectations?  Why or why not?  <BR><BR>Now try flipping a coin 10 times and count the number of heads.  Do five such ten-flip sets and report your results.  How does this relate to the code you ran above?</b>"
   ]
  },
  {
   "cell_type": "markdown",
   "metadata": {},
   "source": [
    "It's possible to create a very, very large collection of random numbers, and you can create them in more than one dimension."
   ]
  },
  {
   "cell_type": "code",
   "execution_count": null,
   "metadata": {},
   "outputs": [],
   "source": [
    "# Create 10 thousand random numbers\n",
    "x = np.random.rand(10000)\n",
    "print(x)"
   ]
  },
  {
   "cell_type": "markdown",
   "metadata": {},
   "source": [
    "You'll notice that we can't print all these out to the screen (or, rather, we by default avoid doing so).  In the case of large numbers it's often helpful to graph them.  A histogram comes in handy here, and we'll use our matplotlib handle (\"plt\") to call that function."
   ]
  },
  {
   "cell_type": "code",
   "execution_count": null,
   "metadata": {},
   "outputs": [],
   "source": [
    "x = np.random.rand(10000)\n",
    "_ = plt.hist(x,bins=50)"
   ]
  },
  {
   "cell_type": "markdown",
   "metadata": {},
   "source": [
    "In the above code, we are \"collecting\" the output from hist (which contains bin information and counts) into a \"garbage\" variable - the underscore - because we're just interested in seeing the plot.  From the plot, you can identify trends.\n",
    "\n",
    "<b>(6) Play along! Does your collection of numbers look random?  How can you tell?"
   ]
  },
  {
   "cell_type": "markdown",
   "metadata": {},
   "source": [
    "We can create two <b>vectors</b> (used here to mean a one-dimensional array), and create a scatterplot to view their relationship."
   ]
  },
  {
   "cell_type": "code",
   "execution_count": null,
   "metadata": {},
   "outputs": [],
   "source": [
    "a = np.random.rand(100)\n",
    "b = np.random.rand(100)\n",
    "plt.scatter(a,b)"
   ]
  },
  {
   "cell_type": "markdown",
   "metadata": {},
   "source": [
    "<b>(7) Play along!  Does this look random?  Why or why not?</b>"
   ]
  },
  {
   "cell_type": "code",
   "execution_count": null,
   "metadata": {},
   "outputs": [],
   "source": [
    "# We can also create a two dimensional array of random numbers:\n",
    "\n",
    "x = np.random.rand(5,5)\n",
    "print(x)"
   ]
  },
  {
   "cell_type": "code",
   "execution_count": null,
   "metadata": {},
   "outputs": [],
   "source": [
    "# And can view a large collection like this with either \"image\" or \"pcolormesh\" (both work similarly)\n",
    "\n",
    "x = np.random.rand(50,50)\n",
    "# plt.imshow(x) or\n",
    "plt.pcolormesh(x,cmap='gray')"
   ]
  },
  {
   "cell_type": "markdown",
   "metadata": {},
   "source": [
    "<b>(8) Play along!  The appearance of the above plot can be configured with the \"cmap\" parameter. Get help with the tool by putting your cursor on \"pcolormesh\" and hitting shift-tab to bring up a tool tip.  If you click on the plus sign, you'll get even more help.  You can find out more information about colormaps in <a href=\"https://matplotlib.org/examples/color/colormaps_reference.html\" target=\"_blank\">the documentation</a>.  Experiment by changing the colormap - replace \"gray\" with something else.  Try at least 5, and leave it on your favorite.</b> "
   ]
  },
  {
   "cell_type": "markdown",
   "metadata": {},
   "source": [
    "Let's look at one more random number generator... one that creates normally distributed random numbers.  We can do this by using a slightly different function.  Run the next codeblock several times, and then answer the question."
   ]
  },
  {
   "cell_type": "code",
   "execution_count": null,
   "metadata": {},
   "outputs": [],
   "source": [
    "x = np.random.randn(1)\n",
    "print(x)"
   ]
  },
  {
   "cell_type": "markdown",
   "metadata": {},
   "source": [
    "<b>(9) Play along!  How are the numbers generated here different than the uniform random number generator?  Run the codeblock at least 20 times, and then tell me what your largest and smallest numbers were.</b>"
   ]
  },
  {
   "cell_type": "code",
   "execution_count": null,
   "metadata": {},
   "outputs": [],
   "source": [
    "# The number generator otherwise runs pretty similarly.  For instance:\n",
    "\n",
    "x = np.random.randn(10000)\n",
    "_ = plt.hist(x,bins=50)"
   ]
  },
  {
   "cell_type": "markdown",
   "metadata": {},
   "source": [
    "<b>(10) Play along!  What did this code do?  How does it differ from the previous histogram of an array of uniform random numbers?  Run it a few times.  How does randomness manifest when you run it multiple times?</b>"
   ]
  },
  {
   "cell_type": "code",
   "execution_count": null,
   "metadata": {},
   "outputs": [],
   "source": [
    "a = np.random.randn(100)\n",
    "b = np.random.randn(100)\n",
    "plt.scatter(a,b)"
   ]
  },
  {
   "cell_type": "markdown",
   "metadata": {},
   "source": [
    "<b>(11) Play along!  What did this code do?  How does it differ from the previous scatterplot of two arrays of uniform random numbers?</b>"
   ]
  },
  {
   "cell_type": "code",
   "execution_count": null,
   "metadata": {},
   "outputs": [],
   "source": [
    "x = np.random.randn(50,50)\n",
    "plt.pcolormesh(x,cmap='gray')"
   ]
  },
  {
   "cell_type": "markdown",
   "metadata": {},
   "source": [
    "<b>(12) Play along!  What did this code do?  How does it differ from the previous image of a 2D array of uniform random numbers?  Based on what you know about the different distributions of these random numbers, *why* do they look different?  Run the codeblock below to see them side by side to help you with your answer.</b>"
   ]
  },
  {
   "cell_type": "code",
   "execution_count": null,
   "metadata": {},
   "outputs": [],
   "source": [
    "x = np.random.rand(50,50)\n",
    "y = np.random.randn(50,50)\n",
    "plt.figure(figsize=(20,10))\n",
    "plt.subplot(121)\n",
    "plt.pcolormesh(x,cmap='gray')\n",
    "_ = plt.title('uniform random')\n",
    "plt.subplot(122)\n",
    "plt.pcolormesh(y,cmap='gray')\n",
    "_ = plt.title('normal random')"
   ]
  },
  {
   "cell_type": "markdown",
   "metadata": {},
   "source": [
    "## SciPy.Stats"
   ]
  },
  {
   "cell_type": "markdown",
   "metadata": {},
   "source": [
    "We're just going to put a toe into the water on scipy.stats, which you can use to perform nearly any kind of quantitative analysis that you might be interested in.  Take a look at <a href=\"https://docs.scipy.org/doc/scipy/reference/stats.html\" target=\"_blank\">the functions available</a>, and see if anything looks familiar."
   ]
  },
  {
   "cell_type": "markdown",
   "metadata": {},
   "source": [
    "<b>(13) Play along!  Name 5 functions that look familiar to you from a statistics class you might have taken.</b>"
   ]
  },
  {
   "cell_type": "markdown",
   "metadata": {},
   "source": [
    "One key measure of analysis is correlation, or the degree of similarity between two paired sets of observations."
   ]
  },
  {
   "cell_type": "code",
   "execution_count": null,
   "metadata": {},
   "outputs": [],
   "source": [
    "# Create two random vectors, and find the correlation between them (r) and p-value of the correlation (p).\n",
    "a = np.random.randn(20)\n",
    "b = np.random.randn(20)\n",
    "r,p = stats.pearsonr(a,b)\n",
    "\n",
    "plt.scatter(a,b)\n",
    "_ = plt.title('correlation = ' + str(np.round(r,decimals=2)))"
   ]
  },
  {
   "cell_type": "markdown",
   "metadata": {},
   "source": [
    "<b>(14) Play along! Run the above code block until you achieve a correlation of .5 or better.  How many iterations (tries) did it take?</b>"
   ]
  },
  {
   "cell_type": "markdown",
   "metadata": {},
   "source": [
    "# Modeling mortgage failure"
   ]
  },
  {
   "cell_type": "markdown",
   "metadata": {},
   "source": [
    "In The Signal and the Noise, Chapter 1, Nate Silver outlines a very simplified CDO (collateralized debt obligation).  The idea is that the risk and reward should be commensurate.  They're divided up into several pools (Alpha through Epsilon) that are supposed to be organized from the least risky (Alpha) to the most risky (Epsilon).  The table below summarizes their organization and risk:"
   ]
  },
  {
   "cell_type": "markdown",
   "metadata": {},
   "source": [
    "<img src=\"https://raw.githubusercontent.com/thomaspingel/analysis_in_gis/master/data/simplified_cdo_structure.png\">"
   ]
  },
  {
   "cell_type": "markdown",
   "metadata": {},
   "source": [
    "How can we simulate this (or similar) situation to find out what the risks really are?  We an use a random number generator to explore some scenarios.\n",
    "\n",
    "The idea behind the alpha scenario is that it pays unless all five default, and each mortgage has a five percent chance of defaulting.  We could model that simply like this:"
   ]
  },
  {
   "cell_type": "code",
   "execution_count": null,
   "metadata": {},
   "outputs": [],
   "source": [
    "# Generate 5 random numbers, each between 0 and 1\n",
    "x = np.random.rand(5)\n",
    "print(np.round(x,decimals=2))\n",
    "\n",
    "# Were all five below .05?\n",
    "result = np.all(x < .05)\n",
    "print(\"Did they all fail?\", result)"
   ]
  },
  {
   "cell_type": "markdown",
   "metadata": {},
   "source": [
    "Rerun the code block as much as you like.  Did you find one where all the mortgages failed?  In this case, for each mortgage, we generate a random number.  If it is less that .05 (five percent) then we assume it failed.  We then ask if all of them failed (where all the values True?), and if so we report \"True\".  Otherwise, we say \"False\".  You should be able to run this as many times as you want, and it probably won't happen.  There's only one chance in 3,200,000 that it will fail!"
   ]
  },
  {
   "cell_type": "markdown",
   "metadata": {},
   "source": [
    "## Bad simulation: Looping"
   ]
  },
  {
   "cell_type": "markdown",
   "metadata": {},
   "source": [
    "We can try to approximate this by running this simulation many, many times (rather than pressing control-enter).  In other languages, we might loop to do this, although in Python we usually try to avoid this, as it's unnecessarily time consuming.  A looping solution might look like this:"
   ]
  },
  {
   "cell_type": "code",
   "execution_count": null,
   "metadata": {},
   "outputs": [],
   "source": [
    "k = 5 * 10**6\n",
    "for i in range(k):\n",
    "    x = np.random.rand(5)\n",
    "    result = np.all(x < .05)\n",
    "    if result==True:\n",
    "        print(\"Iteration\",i,\"failed!\")\n",
    "        print(x)"
   ]
  },
  {
   "cell_type": "markdown",
   "metadata": {},
   "source": [
    "<b>(15) Play along!  Time the above code.  How long did it take to run?  Did you find a failure?  In your own words, how does this code work?</b>"
   ]
  },
  {
   "cell_type": "markdown",
   "metadata": {},
   "source": [
    "## Better simulation: All at once"
   ]
  },
  {
   "cell_type": "markdown",
   "metadata": {},
   "source": [
    "A better approach to this simulation is to generate all the random numbers you'll need right away.  This uses more memory, but is much, much faster."
   ]
  },
  {
   "cell_type": "code",
   "execution_count": null,
   "metadata": {},
   "outputs": [],
   "source": [
    "# This tests twenty alpha pools (each with five mortgages) at the same time.\n",
    "# Run it several times.  Hit anything?\n",
    "k = 20\n",
    "x = np.random.rand(k,5)\n",
    "result = np.all(x < .05, axis=1)\n",
    "print(result)"
   ]
  },
  {
   "cell_type": "code",
   "execution_count": null,
   "metadata": {},
   "outputs": [],
   "source": [
    "# We can make this go faster by running more than twenty at a time.\n",
    "# How many?\n",
    "k = 5 * 10**6\n",
    "x = np.random.rand(k,5)\n",
    "result = np.all(x < .05, axis=1)\n",
    "result = np.any(result==True)\n",
    "\n",
    "if result==True:\n",
    "    print(\"We had a failure!\")\n",
    "else:\n",
    "    print(\"No failures in this bunch.\")"
   ]
  },
  {
   "cell_type": "markdown",
   "metadata": {},
   "source": [
    "<b>(16) Play along!  Run the above code a few times.  How long does it take to run?  In your own words, try to explain how this code works.</b>"
   ]
  },
  {
   "cell_type": "markdown",
   "metadata": {},
   "source": [
    "Depending on the complexity of your simulation, you can break it into several pieces in a hybrid-like approach.  We'll get into more complicated examples later."
   ]
  },
  {
   "cell_type": "markdown",
   "metadata": {},
   "source": [
    "## Tabulating failure rates:"
   ]
  },
  {
   "cell_type": "markdown",
   "metadata": {},
   "source": [
    "We can try to assess the odds that Nate Silver presents by running a larger simulation."
   ]
  },
  {
   "cell_type": "code",
   "execution_count": null,
   "metadata": {},
   "outputs": [],
   "source": [
    "k = 10**7  # 10 million runs\n",
    "x = np.random.rand(k,5) < .05\n",
    "result = np.sum(x,axis=1)\n",
    "\n",
    "print(np.sum(result==5),\"in 10 million had all five fail.\")\n",
    "print(np.round(100*np.sum(result==4)/k,decimals=3),\"% had at least four failures.\")\n",
    "print(np.round(100*np.sum(result==3)/k,decimals=1),\"% had at least three failures.\")\n",
    "print(np.round(100*np.sum(result==2)/k,decimals=1),\"% had at least two failures.\")\n",
    "print(np.round(100*np.sum(result==1)/k,decimals=1),\"% had at least one failure.\")"
   ]
  },
  {
   "cell_type": "markdown",
   "metadata": {},
   "source": [
    "<B>(17) Play along! Run the above code a few times. How do the results compare to those Silver presents in Table 1-2?</b>"
   ]
  },
  {
   "cell_type": "code",
   "execution_count": null,
   "metadata": {},
   "outputs": [],
   "source": []
  }
 ],
 "metadata": {
  "kernelspec": {
   "display_name": "Python 3 (ipykernel)",
   "language": "python",
   "name": "python3"
  },
  "language_info": {
   "codemirror_mode": {
    "name": "ipython",
    "version": 3
   },
   "file_extension": ".py",
   "mimetype": "text/x-python",
   "name": "python",
   "nbconvert_exporter": "python",
   "pygments_lexer": "ipython3",
   "version": "3.9.0"
  }
 },
 "nbformat": 4,
 "nbformat_minor": 2
}
