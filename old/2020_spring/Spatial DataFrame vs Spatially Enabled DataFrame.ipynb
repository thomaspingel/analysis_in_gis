{
 "cells": [
  {
   "cell_type": "code",
   "execution_count": 1,
   "metadata": {},
   "outputs": [],
   "source": [
    "import arcpy\n",
    "from arcgis.gis import GIS\n",
    "\n",
    "# Spatial Data Frames rely on this import\n",
    "from arcgis.features import SpatialDataFrame\n",
    "\n",
    "# Spatially Enabled DataFramres rely on these imports\n",
    "import pandas as pd\n",
    "from arcgis.features import GeoAccessor, GeoSeriesAccessor"
   ]
  },
  {
   "cell_type": "code",
   "execution_count": 2,
   "metadata": {},
   "outputs": [],
   "source": [
    "arcpy.env.workspace = \"data/sedf_example.gdb\""
   ]
  },
  {
   "cell_type": "code",
   "execution_count": 3,
   "metadata": {},
   "outputs": [
    {
     "name": "stdout",
     "output_type": "stream",
     "text": [
      "['storm_points', 'watersheds']\n"
     ]
    }
   ],
   "source": [
    "# List the layers in your working directory\n",
    "\n",
    "fclist = arcpy.ListFeatureClasses()\n",
    "print(fclist)"
   ]
  },
  {
   "cell_type": "code",
   "execution_count": 4,
   "metadata": {},
   "outputs": [
    {
     "name": "stderr",
     "output_type": "stream",
     "text": [
      "C:\\Program Files\\ArcGIS\\Pro\\bin\\Python\\envs\\arcgispro-py3\\lib\\site-packages\\arcgis\\features\\_data\\geodataset\\geodataframe.py:221: UserWarning: SpatialDataFrame has been deprecated.  Please switch to the GeoAccessor/GeoSeriesAccessor.\n",
      "  warnings.warn(\"SpatialDataFrame has been deprecated.  Please switch to the GeoAccessor/GeoSeriesAccessor.\")\n"
     ]
    },
    {
     "data": {
      "text/html": [
       "<div>\n",
       "<style scoped>\n",
       "    .dataframe tbody tr th:only-of-type {\n",
       "        vertical-align: middle;\n",
       "    }\n",
       "\n",
       "    .dataframe tbody tr th {\n",
       "        vertical-align: top;\n",
       "    }\n",
       "\n",
       "    .dataframe thead th {\n",
       "        text-align: right;\n",
       "    }\n",
       "</style>\n",
       "<table border=\"1\" class=\"dataframe\">\n",
       "  <thead>\n",
       "    <tr style=\"text-align: right;\">\n",
       "      <th></th>\n",
       "      <th>OBJECTID</th>\n",
       "      <th>Watershed</th>\n",
       "      <th>TMDL_Water</th>\n",
       "      <th>Phase</th>\n",
       "      <th>Area_Ac</th>\n",
       "      <th>TIA_Ac</th>\n",
       "      <th>TIA_Pct</th>\n",
       "      <th>GlobalID</th>\n",
       "      <th>SHAPE</th>\n",
       "    </tr>\n",
       "  </thead>\n",
       "  <tbody>\n",
       "    <tr>\n",
       "      <td>0</td>\n",
       "      <td>1</td>\n",
       "      <td>Roanoke River above Masons Creek</td>\n",
       "      <td>Roanoke River 2</td>\n",
       "      <td></td>\n",
       "      <td>40530.632918</td>\n",
       "      <td>0.0</td>\n",
       "      <td>0.0</td>\n",
       "      <td>a6b2fd42-5f46-4486-9101-77d3554abd41</td>\n",
       "      <td>{'rings': [[[11024671.733272344, 3652589.89073...</td>\n",
       "    </tr>\n",
       "    <tr>\n",
       "      <td>1</td>\n",
       "      <td>2</td>\n",
       "      <td>Back Creek</td>\n",
       "      <td>Back Creek</td>\n",
       "      <td></td>\n",
       "      <td>37561.660519</td>\n",
       "      <td>0.0</td>\n",
       "      <td>0.0</td>\n",
       "      <td>abbb57b8-7d38-4ed4-b70d-d41ed83ea617</td>\n",
       "      <td>{'rings': [[[11086384.49403292, 3616511.612173...</td>\n",
       "    </tr>\n",
       "  </tbody>\n",
       "</table>\n",
       "</div>"
      ],
      "text/plain": [
       "   OBJECTID                         Watershed       TMDL_Water Phase  \\\n",
       "0         1  Roanoke River above Masons Creek  Roanoke River 2         \n",
       "1         2                        Back Creek       Back Creek         \n",
       "\n",
       "        Area_Ac  TIA_Ac  TIA_Pct                              GlobalID  \\\n",
       "0  40530.632918     0.0      0.0  a6b2fd42-5f46-4486-9101-77d3554abd41   \n",
       "1  37561.660519     0.0      0.0  abbb57b8-7d38-4ed4-b70d-d41ed83ea617   \n",
       "\n",
       "                                               SHAPE  \n",
       "0  {'rings': [[[11024671.733272344, 3652589.89073...  \n",
       "1  {'rings': [[[11086384.49403292, 3616511.612173...  "
      ]
     },
     "execution_count": 4,
     "metadata": {},
     "output_type": "execute_result"
    }
   ],
   "source": [
    "# SpatialDataFrames are read in this way:\n",
    "\n",
    "sdf = SpatialDataFrame.from_featureclass('watersheds')\n",
    "sdf.head(2)"
   ]
  },
  {
   "cell_type": "code",
   "execution_count": 5,
   "metadata": {},
   "outputs": [
    {
     "data": {
      "text/html": [
       "<div>\n",
       "<style scoped>\n",
       "    .dataframe tbody tr th:only-of-type {\n",
       "        vertical-align: middle;\n",
       "    }\n",
       "\n",
       "    .dataframe tbody tr th {\n",
       "        vertical-align: top;\n",
       "    }\n",
       "\n",
       "    .dataframe thead th {\n",
       "        text-align: right;\n",
       "    }\n",
       "</style>\n",
       "<table border=\"1\" class=\"dataframe\">\n",
       "  <thead>\n",
       "    <tr style=\"text-align: right;\">\n",
       "      <th></th>\n",
       "      <th>OBJECTID</th>\n",
       "      <th>Watershed</th>\n",
       "      <th>TMDL_Water</th>\n",
       "      <th>Phase</th>\n",
       "      <th>Area_Ac</th>\n",
       "      <th>TIA_Ac</th>\n",
       "      <th>TIA_Pct</th>\n",
       "      <th>GlobalID</th>\n",
       "      <th>SHAPE</th>\n",
       "    </tr>\n",
       "  </thead>\n",
       "  <tbody>\n",
       "    <tr>\n",
       "      <td>0</td>\n",
       "      <td>1</td>\n",
       "      <td>Roanoke River above Masons Creek</td>\n",
       "      <td>Roanoke River 2</td>\n",
       "      <td></td>\n",
       "      <td>40530.632918</td>\n",
       "      <td>0.0</td>\n",
       "      <td>0.0</td>\n",
       "      <td>a6b2fd42-5f46-4486-9101-77d3554abd41</td>\n",
       "      <td>{'rings': [[[11024671.733272344, 3652589.89073...</td>\n",
       "    </tr>\n",
       "    <tr>\n",
       "      <td>1</td>\n",
       "      <td>2</td>\n",
       "      <td>Back Creek</td>\n",
       "      <td>Back Creek</td>\n",
       "      <td></td>\n",
       "      <td>37561.660519</td>\n",
       "      <td>0.0</td>\n",
       "      <td>0.0</td>\n",
       "      <td>abbb57b8-7d38-4ed4-b70d-d41ed83ea617</td>\n",
       "      <td>{'rings': [[[11086384.49403292, 3616511.612173...</td>\n",
       "    </tr>\n",
       "  </tbody>\n",
       "</table>\n",
       "</div>"
      ],
      "text/plain": [
       "   OBJECTID                         Watershed       TMDL_Water Phase  \\\n",
       "0         1  Roanoke River above Masons Creek  Roanoke River 2         \n",
       "1         2                        Back Creek       Back Creek         \n",
       "\n",
       "        Area_Ac  TIA_Ac  TIA_Pct                              GlobalID  \\\n",
       "0  40530.632918     0.0      0.0  a6b2fd42-5f46-4486-9101-77d3554abd41   \n",
       "1  37561.660519     0.0      0.0  abbb57b8-7d38-4ed4-b70d-d41ed83ea617   \n",
       "\n",
       "                                               SHAPE  \n",
       "0  {'rings': [[[11024671.733272344, 3652589.89073...  \n",
       "1  {'rings': [[[11086384.49403292, 3616511.612173...  "
      ]
     },
     "execution_count": 5,
     "metadata": {},
     "output_type": "execute_result"
    }
   ],
   "source": [
    "# Spatially Enabled DataFrames are read in this way:\n",
    "\n",
    "sedf = pd.DataFrame.spatial.from_featureclass(\"watersheds\")\n",
    "sdf.head(2)"
   ]
  }
 ],
 "metadata": {
  "kernelspec": {
   "display_name": "Python 3",
   "language": "python",
   "name": "python3"
  },
  "language_info": {
   "codemirror_mode": {
    "name": "ipython",
    "version": 3
   },
   "file_extension": ".py",
   "mimetype": "text/x-python",
   "name": "python",
   "nbconvert_exporter": "python",
   "pygments_lexer": "ipython3",
   "version": "3.6.9"
  }
 },
 "nbformat": 4,
 "nbformat_minor": 2
}
