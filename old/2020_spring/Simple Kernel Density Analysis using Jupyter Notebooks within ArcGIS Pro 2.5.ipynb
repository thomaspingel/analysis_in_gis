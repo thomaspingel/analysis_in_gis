{
 "cells": [
  {
   "cell_type": "code",
   "execution_count": null,
   "metadata": {},
   "outputs": [],
   "source": [
    "import arcpy\n",
    "from arcgis.gis import GIS\n",
    "\n",
    "import pandas as pd\n",
    "from arcgis.features import GeoAccessor, GeoSeriesAccessor\n",
    "\n",
    "import numpy as np\n",
    "\n",
    "from arcpy.sa import *"
   ]
  },
  {
   "cell_type": "code",
   "execution_count": null,
   "metadata": {},
   "outputs": [],
   "source": [
    "# We'll load this object for mapping\n",
    "\n",
    "gis = GIS(\"pro\")"
   ]
  },
  {
   "cell_type": "code",
   "execution_count": null,
   "metadata": {},
   "outputs": [],
   "source": [
    "# Define your working directory\n",
    "\n",
    "arcpy.env.workspace = \"MyProject5.gdb\""
   ]
  },
  {
   "cell_type": "code",
   "execution_count": null,
   "metadata": {},
   "outputs": [],
   "source": [
    "# List the layers in your working directory\n",
    "\n",
    "fclist = arcpy.ListFeatureClasses()\n",
    "print(fclist)"
   ]
  },
  {
   "cell_type": "code",
   "execution_count": null,
   "metadata": {},
   "outputs": [],
   "source": [
    "# List the rasters in your working directory\n",
    "\n",
    "arcpy.ListDatasets()"
   ]
  },
  {
   "cell_type": "code",
   "execution_count": null,
   "metadata": {},
   "outputs": [],
   "source": [
    "sdf = pd.DataFrame.spatial.from_featureclass(\"baltimore_911\")\n",
    "sdf.head(3)"
   ]
  },
  {
   "cell_type": "code",
   "execution_count": null,
   "metadata": {},
   "outputs": [],
   "source": [
    "# Set local variables\n",
    "inFeatures = \"baltimore_911\"\n",
    "populationField = \"NONE\"\n",
    "cellSize = 50\n",
    "searchRadius = 1250\n",
    "\n",
    "# Execute KernelDensity\n",
    "outKernelDensity = KernelDensity(inFeatures, populationField, cellSize,\n",
    "                                 searchRadius, \"SQUARE_KILOMETERS\")"
   ]
  },
  {
   "cell_type": "code",
   "execution_count": null,
   "metadata": {},
   "outputs": [],
   "source": [
    "# Save the output \n",
    "outKernelDensity.save(\"C:/temp/final_kernel_density.tif\")"
   ]
  }
 ],
 "metadata": {
  "kernelspec": {
   "display_name": "Python 3",
   "language": "python",
   "name": "python3"
  },
  "language_info": {
   "codemirror_mode": {
    "name": "ipython",
    "version": 3
   },
   "file_extension": ".py",
   "mimetype": "text/x-python",
   "name": "python",
   "nbconvert_exporter": "python",
   "pygments_lexer": "ipython3",
   "version": "3.7.6"
  }
 },
 "nbformat": 4,
 "nbformat_minor": 4
}
