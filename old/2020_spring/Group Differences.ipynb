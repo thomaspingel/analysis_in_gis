{
 "cells": [
  {
   "cell_type": "markdown",
   "metadata": {},
   "source": [
    "# Analyzing Group Differences"
   ]
  },
  {
   "cell_type": "markdown",
   "metadata": {},
   "source": [
    "In these exercises, we'll explore testing differences between group means.  This is useful when I'd like to know something about how two quantitative variables differ between Group A and Group B.  In a geographical context, we might want to know, for instance, <a href=\"https://hpi.georgetown.edu/rural/\">whether people living in urban areas tend to be healthier or less healthy than those living in rural areas</a>.  How could we make this comparison?\n",
    "\n",
    "When testing two groups, we generally use a <a href=\"https://en.wikipedia.org/wiki/Student%27s_t-test\">t-test</a>.  When testing more than two groups for differences, we generally use an <a href=\"https://en.wikipedia.org/wiki/Analysis_of_variance\">ANOVA</a>.  If our variables are not normally distributed, we'll often <a href=\"https://en.wikipedia.org/wiki/Data_transformation_(statistics)\">transform our variable</a> (e.g., with something like a log transform), or we can use <a href=\"https://en.wikipedia.org/wiki/Kruskal%E2%80%93Wallis_one-way_analysis_of_variance\">non-parametric versions of our tests</a>."
   ]
  },
  {
   "cell_type": "code",
   "execution_count": 13,
   "metadata": {},
   "outputs": [],
   "source": [
    "import numpy as np\n",
    "import pandas as pd\n",
    "from scipy import stats\n",
    "import matplotlib.pyplot as plt"
   ]
  },
  {
   "cell_type": "markdown",
   "metadata": {},
   "source": [
    "# Giving Fake Growth Serum to Fake Rats"
   ]
  },
  {
   "cell_type": "markdown",
   "metadata": {},
   "source": [
    "Suppose I'm a mad scientist testing out a <a href=\"https://princessbride.fandom.com/wiki/R.O.U.S.\">growth serum for rats</a>.\n",
    "\n",
    "Apart from actually making the growth serum, how do I know if it's working?\n",
    "\n",
    "I can use t-tests to help me analyze my data."
   ]
  },
  {
   "cell_type": "markdown",
   "metadata": {},
   "source": [
    "### Simulating Rats"
   ]
  },
  {
   "cell_type": "markdown",
   "metadata": {},
   "source": [
    "We'll suppose our rats have a <a href=\"https://en.wikipedia.org/wiki/Mean\">mean</a> length of 12.1 cm, with a <a href=\"https://en.wikipedia.org/wiki/Standard_deviation\">standard deviation</a> of 1.8 cm."
   ]
  },
  {
   "cell_type": "code",
   "execution_count": 2,
   "metadata": {},
   "outputs": [
    {
     "data": {
      "image/png": "[encoded data removed]",
      "text/plain": [
       "<Figure size 432x288 with 1 Axes>"
      ]
     },
     "metadata": {
      "needs_background": "light"
     },
     "output_type": "display_data"
    }
   ],
   "source": [
    "n = 500\n",
    "length_mean = 12.1\n",
    "length_sd = 1.8\n",
    "\n",
    "some_rats = np.random.normal(loc=length_mean, scale=length_sd, size=n)\n",
    "\n",
    "_ = plt.hist(some_rats,bins=10,edgecolor='k')"
   ]
  },
  {
   "cell_type": "markdown",
   "metadata": {},
   "source": [
    "### Simulating Growth Serum"
   ]
  },
  {
   "cell_type": "markdown",
   "metadata": {},
   "source": [
    "In addition to simulating rats, we'll have to simulate the effect of our growth serum.  You can adjust these values later if you want, but let's start with this:"
   ]
  },
  {
   "cell_type": "code",
   "execution_count": 3,
   "metadata": {},
   "outputs": [
    {
     "data": {
      "image/png": "[encoded data removed]",
      "text/plain": [
       "<Figure size 432x288 with 1 Axes>"
      ]
     },
     "metadata": {
      "needs_background": "light"
     },
     "output_type": "display_data"
    }
   ],
   "source": [
    "# This is our first batch, so the effects are somewhat weak:\n",
    "serum_mean_length_increase = .1  # cm\n",
    "serum_sd_length_increase = .05   # cm\n",
    "\n",
    "# We'll model our growth serum with a normal distribution:\n",
    "growth_serum = np.random.normal(serum_mean_length_increase, serum_sd_length_increase, n)\n",
    "\n",
    "# Let's look at the distribution.  Notice that in rare cases, the serum will cause the rats to slightly shrink!\n",
    "_ = plt.hist(growth_serum,bins=10,edgecolor='k')"
   ]
  },
  {
   "cell_type": "markdown",
   "metadata": {},
   "source": [
    "### T-Tests on Related Samples"
   ]
  },
  {
   "cell_type": "markdown",
   "metadata": {},
   "source": [
    "In my best-case scenario, my experiment looks like this:\n",
    "\n",
    "* I measure the length of the rats.  \n",
    "* I give them the growth serum.\n",
    "* I measure their length a little while later."
   ]
  },
  {
   "cell_type": "code",
   "execution_count": 4,
   "metadata": {},
   "outputs": [
    {
     "data": {
      "image/png": "[encoded data removed]",
      "text/plain": [
       "<Figure size 432x288 with 1 Axes>"
      ]
     },
     "metadata": {
      "needs_background": "light"
     },
     "output_type": "display_data"
    }
   ],
   "source": [
    "n = 50\n",
    "rat_m = 12.1\n",
    "rat_sd = 1.8\n",
    "serum_m = 5.0     # Let's simulate a very \n",
    "serum_sd = 1.0    # strong serum to start with\n",
    "\n",
    "# Run the \"experiment\"\n",
    "before_rats = np.random.normal(rat_m, rat_sd, n)\n",
    "growth_serum = np.random.normal(serum_m, serum_sd, n)\n",
    "after_rats = before_rats + growth_serum\n",
    "\n",
    "# Plot the results\n",
    "plt.figure()\n",
    "ax = plt.subplot(111)\n",
    "_ = plt.violinplot((before_rats,after_rats))\n",
    "_ = ax.set_xticks([1,2])\n",
    "_ = ax.set_xticklabels(['Before','After'])\n",
    "_ = plt.ylabel('length (cm)')"
   ]
  },
  {
   "cell_type": "code",
   "execution_count": 5,
   "metadata": {},
   "outputs": [
    {
     "name": "stdout",
     "output_type": "stream",
     "text": [
      "t = -41.53662895699674  p = 7.398743601657231e-40\n"
     ]
    }
   ],
   "source": [
    "# This clearly worked!  We can run a t-test to confirm.  \n",
    "# We run a RELATED t-test, since we measured the same rats before and after.\n",
    "\n",
    "t,p = stats.ttest_rel(before_rats,after_rats)\n",
    "print('t =',t,' p =',p)\n",
    "\n",
    "# The p-value is quite low.  Notice this is in scientific notation.  \n",
    "# Values are generated randomly, but on one run, I received a p-value of: \n",
    "# p = 4.5423694976383266e-36\n",
    "#\n",
    "# This means that the number is 4.54 x 10^-36, a very small number!  Far, far less than P = .001.  \n",
    "# We would generally report this value as \"P < 0.001\""
   ]
  },
  {
   "cell_type": "markdown",
   "metadata": {},
   "source": [
    "### Reporting P values"
   ]
  },
  {
   "cell_type": "markdown",
   "metadata": {},
   "source": [
    "We would generally report this value as <u>p < 0.001</u> meaning there is less than 1 chance in a thousand that we would see this much of a difference in mean by random sampling, if indeed our true means were the same. Intepreting p-values can take practice, so <a href=\"https://blog.minitab.com/blog/adventures-in-statistics-2/how-to-correctly-interpret-p-values\">be sure to read more about it</a> if you find this confusing.  \n",
    "    \n",
    "In practice there are few critical thresholds for p-values:\n",
    "* p < .05, indicating a less than 1 in 20 chance.  This is generally the minimum threshold for \"statistical significance\".\n",
    "* p < .01, indicating a less than 1 in 100 chance.\n",
    "* p < .001, indicating a less than 1 in 1000 chance.  This is generally the smallest p-value we report.\n",
    "           \n",
    "Although I use lowercase letters here for convenience, P should be reported as a capital letter.  See these guidelines for <a href=\"https://support.jmir.org/hc/en-us/articles/360000002012-How-should-P-values-be-reported-\">how to report P values</a>.  Remember, p-values are never zero!    "
   ]
  },
  {
   "cell_type": "markdown",
   "metadata": {},
   "source": [
    "### What about a weaker serum?"
   ]
  },
  {
   "cell_type": "code",
   "execution_count": 17,
   "metadata": {},
   "outputs": [
    {
     "name": "stdout",
     "output_type": "stream",
     "text": [
      "mean of before rats: 12.497790855169278\n",
      "mean of after rats: 12.599425006886863\n",
      "t = -12.168150901183486  p = 2.0223693402392216e-16\n"
     ]
    },
    {
     "data": {
      "image/png": "[encoded data removed]",
      "text/plain": [
       "<Figure size 432x288 with 1 Axes>"
      ]
     },
     "metadata": {
      "needs_background": "light"
     },
     "output_type": "display_data"
    }
   ],
   "source": [
    "n = 50\n",
    "rat_m = 12.1\n",
    "rat_sd = 1.8\n",
    "serum_m = 0.1     # Let's simulate a weaker serum\n",
    "serum_sd = 0.05    \n",
    "\n",
    "# Run the \"experiment\"\n",
    "before_rats = np.random.normal(rat_m, rat_sd, n)\n",
    "growth_serum = np.random.normal(serum_m, serum_sd, n)\n",
    "after_rats = before_rats + growth_serum\n",
    "\n",
    "# Plot the results\n",
    "plt.figure()\n",
    "ax = plt.subplot(111)\n",
    "_ = plt.violinplot((before_rats,after_rats))\n",
    "_ = ax.set_xticks([1,2])\n",
    "_ = ax.set_xticklabels(['Before','After'])\n",
    "_ = plt.ylabel('length (cm)')\n",
    "\n",
    "print('mean of before rats:',np.mean(before_rats))\n",
    "print('mean of after rats:',np.mean(after_rats))\n",
    "\n",
    "t,p = stats.ttest_rel(before_rats,after_rats)\n",
    "print('t =',t,' p =',p)\n",
    "\n",
    "# Even though the distributions aren't visually distinct, the statistical test is still able to pick up\n",
    "# differences.  In my run, p was still less than 0.001 (in fact, 8.79 x 10^-19)."
   ]
  },
  {
   "cell_type": "markdown",
   "metadata": {},
   "source": [
    "# T-Tests on Independent Samples"
   ]
  },
  {
   "cell_type": "markdown",
   "metadata": {},
   "source": [
    "In this scenario, my experiment looks like this:\n",
    "\n",
    "* I get 100 rats from my rat dealer, and I divide them into two groups of 50 each\n",
    "* Group A (control_rats) recieve no treatment, I only measure them.\n",
    "* I give my growth serum to Group B (treatment_rats), I wait a while, and then measure them.\n",
    "\n",
    "If this doesn't seem quite as good of a set up, you're right!  It's not.  As a result, <a href=\"https://en.wikipedia.org/wiki/Power_(statistics)\">statistical power will be much lower</a> - it will be harder to tell whether the treatment worked or not.  However, with geographic data, we may not have the luxury of performing true \"experiments\" - we may only be able to analyze collected data."
   ]
  },
  {
   "cell_type": "code",
   "execution_count": 71,
   "metadata": {},
   "outputs": [
    {
     "name": "stdout",
     "output_type": "stream",
     "text": [
      "mean of before rats: 12.092218231675743\n",
      "mean of after rats: 12.19272023623594\n",
      "t = -1.9595243025291564  p = 0.050106917709394565\n"
     ]
    },
    {
     "data": {
      "image/png": "[encoded data removed]",
      "text/plain": [
       "<Figure size 432x288 with 1 Axes>"
      ]
     },
     "metadata": {
      "needs_background": "light"
     },
     "output_type": "display_data"
    }
   ],
   "source": [
    "n = 2500\n",
    "rat_m = 12.1\n",
    "rat_sd = 1.8\n",
    "serum_m = 0.1     # Let's simulate a weaker serum\n",
    "serum_sd = 0.05    \n",
    "\n",
    "\n",
    "# Run the \"experiment\"\n",
    "control_rats = np.random.normal(rat_m, rat_sd, n)\n",
    "\n",
    "growth_serum = np.random.normal(serum_m, serum_sd, n)\n",
    "treatment_rats = np.random.normal(rat_m, rat_sd, n) + growth_serum\n",
    "\n",
    "\n",
    "# Plot the results\n",
    "plt.figure()\n",
    "ax = plt.subplot(111)\n",
    "_ = plt.violinplot((control_rats,treatment_rats))\n",
    "_ = ax.set_xticks([1,2])\n",
    "_ = ax.set_xticklabels(['Control','Treatment'])\n",
    "_ = plt.ylabel('length (cm)')\n",
    "\n",
    "print('mean of before rats:',np.mean(control_rats))\n",
    "print('mean of after rats:',np.mean(treatment_rats))\n",
    "\n",
    "t,p = stats.ttest_ind(control_rats,treatment_rats)\n",
    "print('t =',t,' p =',p)"
   ]
  },
  {
   "cell_type": "markdown",
   "metadata": {},
   "source": [
    "# T-Tests against a known mean"
   ]
  },
  {
   "cell_type": "code",
   "execution_count": null,
   "metadata": {},
   "outputs": [],
   "source": [
    "In this case, the idea is to compare a group against a known mean.  This is much like the last example, but without Group A (the control group).  "
   ]
  },
  {
   "cell_type": "code",
   "execution_count": 72,
   "metadata": {},
   "outputs": [
    {
     "name": "stdout",
     "output_type": "stream",
     "text": [
      "t = -0.1839201236540625  p = 0.8548351352449775\n"
     ]
    }
   ],
   "source": [
    "n = 50\n",
    "rat_m = 12.1\n",
    "rat_sd = 1.8\n",
    "serum_m = 0.1     # Let's simulate a weaker serum\n",
    "serum_sd = 0.05 \n",
    "\n",
    "growth_serum = np.random.normal(serum_m, serum_sd, n)\n",
    "treatment_rats = np.random.normal(rat_m, rat_sd, n) + growth_serum\n",
    "\n",
    "t,p = stats.ttest_1samp(treatment_rats,popmean=rat_m)\n",
    "print('t =',t,' p =',p)"
   ]
  },
  {
   "cell_type": "markdown",
   "metadata": {},
   "source": [
    "# T-Tests against a known population mean"
   ]
  },
  {
   "cell_type": "code",
   "execution_count": null,
   "metadata": {},
   "outputs": [],
   "source": [
    "# You can also use a t-test to test for difference from a specific mean\n",
    "\n",
    "n = 100\n",
    "\n",
    "rat_length_mean = 12.1\n",
    "rat_length_sd = 1.8\n",
    "\n",
    "serum_increase_mean = .1\n",
    "serum_increase_sd = .05\n",
    "\n",
    "before_rats = np.random.normal(loc=rat_length_mean,scale=rat_length_sd,size=n)\n",
    "after_rats = before_rats + np.random.normal(serum_increase_mean,serum_increase_sd,n)\n",
    "\n",
    "t,p = stats.ttest_1samp(after_rats,popmean=rat_length_mean)\n",
    "print('Testing difference from a given mean')\n",
    "print(t,p)\n",
    "\n",
    "print('\\n')\n",
    "\n",
    "# Compare to a paired t-test\n",
    "t,p = stats.ttest_rel(before_rats,after_rats)\n",
    "print('Testing difference from a paired t-test')\n",
    "print(t,p)\n"
   ]
  },
  {
   "cell_type": "markdown",
   "metadata": {},
   "source": [
    "# Example: T-Tests on Election Data"
   ]
  },
  {
   "cell_type": "code",
   "execution_count": 3,
   "metadata": {},
   "outputs": [
    {
     "data": {
      "text/html": [
       "<div>\n",
       "<style scoped>\n",
       "    .dataframe tbody tr th:only-of-type {\n",
       "        vertical-align: middle;\n",
       "    }\n",
       "\n",
       "    .dataframe tbody tr th {\n",
       "        vertical-align: top;\n",
       "    }\n",
       "\n",
       "    .dataframe thead th {\n",
       "        text-align: right;\n",
       "    }\n",
       "</style>\n",
       "<table border=\"1\" class=\"dataframe\">\n",
       "  <thead>\n",
       "    <tr style=\"text-align: right;\">\n",
       "      <th></th>\n",
       "      <th>FIPS</th>\n",
       "      <th>gop_2000_votes</th>\n",
       "      <th>dem_2000_votes</th>\n",
       "      <th>totalvotes_2000</th>\n",
       "      <th>gop_2000_prc</th>\n",
       "      <th>dem_2000_prc</th>\n",
       "      <th>gop_minus_dem_prc_2000</th>\n",
       "      <th>gop_2004_votes</th>\n",
       "      <th>dem_2004_votes</th>\n",
       "      <th>totalvotes_2004</th>\n",
       "      <th>...</th>\n",
       "      <th>totalvotes_2012</th>\n",
       "      <th>gop_2012_prc</th>\n",
       "      <th>dem_2012_prc</th>\n",
       "      <th>gop_minus_dem_prc_2012</th>\n",
       "      <th>gop_2016_votes</th>\n",
       "      <th>dem_2016_votes</th>\n",
       "      <th>totalvotes_2016</th>\n",
       "      <th>gop_2016_prc</th>\n",
       "      <th>dem_2016_prc</th>\n",
       "      <th>gop_minus_dem_prc_2016</th>\n",
       "    </tr>\n",
       "  </thead>\n",
       "  <tbody>\n",
       "    <tr>\n",
       "      <th>0</th>\n",
       "      <td>01001</td>\n",
       "      <td>11993.0</td>\n",
       "      <td>4942.0</td>\n",
       "      <td>17208.0</td>\n",
       "      <td>69.69</td>\n",
       "      <td>28.72</td>\n",
       "      <td>40.97</td>\n",
       "      <td>15196.0</td>\n",
       "      <td>4758.0</td>\n",
       "      <td>20081.0</td>\n",
       "      <td>...</td>\n",
       "      <td>23932.0</td>\n",
       "      <td>72.62</td>\n",
       "      <td>26.59</td>\n",
       "      <td>46.03</td>\n",
       "      <td>18172.0</td>\n",
       "      <td>5936.0</td>\n",
       "      <td>24973.0</td>\n",
       "      <td>72.77</td>\n",
       "      <td>23.77</td>\n",
       "      <td>49.00</td>\n",
       "    </tr>\n",
       "    <tr>\n",
       "      <th>1</th>\n",
       "      <td>01003</td>\n",
       "      <td>40872.0</td>\n",
       "      <td>13997.0</td>\n",
       "      <td>56480.0</td>\n",
       "      <td>72.37</td>\n",
       "      <td>24.78</td>\n",
       "      <td>47.59</td>\n",
       "      <td>52971.0</td>\n",
       "      <td>15599.0</td>\n",
       "      <td>69320.0</td>\n",
       "      <td>...</td>\n",
       "      <td>85338.0</td>\n",
       "      <td>77.36</td>\n",
       "      <td>21.59</td>\n",
       "      <td>55.77</td>\n",
       "      <td>72883.0</td>\n",
       "      <td>18458.0</td>\n",
       "      <td>95215.0</td>\n",
       "      <td>76.55</td>\n",
       "      <td>19.39</td>\n",
       "      <td>57.16</td>\n",
       "    </tr>\n",
       "    <tr>\n",
       "      <th>2</th>\n",
       "      <td>01005</td>\n",
       "      <td>5096.0</td>\n",
       "      <td>5188.0</td>\n",
       "      <td>10395.0</td>\n",
       "      <td>49.02</td>\n",
       "      <td>49.91</td>\n",
       "      <td>-0.89</td>\n",
       "      <td>5899.0</td>\n",
       "      <td>4832.0</td>\n",
       "      <td>10777.0</td>\n",
       "      <td>...</td>\n",
       "      <td>11509.0</td>\n",
       "      <td>48.22</td>\n",
       "      <td>51.37</td>\n",
       "      <td>-3.15</td>\n",
       "      <td>5454.0</td>\n",
       "      <td>4871.0</td>\n",
       "      <td>10469.0</td>\n",
       "      <td>52.10</td>\n",
       "      <td>46.53</td>\n",
       "      <td>5.57</td>\n",
       "    </tr>\n",
       "    <tr>\n",
       "      <th>3</th>\n",
       "      <td>01007</td>\n",
       "      <td>4273.0</td>\n",
       "      <td>2710.0</td>\n",
       "      <td>7101.0</td>\n",
       "      <td>60.17</td>\n",
       "      <td>38.16</td>\n",
       "      <td>22.01</td>\n",
       "      <td>5472.0</td>\n",
       "      <td>2089.0</td>\n",
       "      <td>7600.0</td>\n",
       "      <td>...</td>\n",
       "      <td>8420.0</td>\n",
       "      <td>72.83</td>\n",
       "      <td>26.15</td>\n",
       "      <td>46.68</td>\n",
       "      <td>6738.0</td>\n",
       "      <td>1874.0</td>\n",
       "      <td>8819.0</td>\n",
       "      <td>76.40</td>\n",
       "      <td>21.25</td>\n",
       "      <td>55.15</td>\n",
       "    </tr>\n",
       "    <tr>\n",
       "      <th>4</th>\n",
       "      <td>01009</td>\n",
       "      <td>12667.0</td>\n",
       "      <td>4977.0</td>\n",
       "      <td>17973.0</td>\n",
       "      <td>70.48</td>\n",
       "      <td>27.69</td>\n",
       "      <td>42.79</td>\n",
       "      <td>17386.0</td>\n",
       "      <td>3938.0</td>\n",
       "      <td>21504.0</td>\n",
       "      <td>...</td>\n",
       "      <td>24006.0</td>\n",
       "      <td>86.47</td>\n",
       "      <td>12.37</td>\n",
       "      <td>74.10</td>\n",
       "      <td>22859.0</td>\n",
       "      <td>2156.0</td>\n",
       "      <td>25588.0</td>\n",
       "      <td>89.33</td>\n",
       "      <td>8.43</td>\n",
       "      <td>80.90</td>\n",
       "    </tr>\n",
       "  </tbody>\n",
       "</table>\n",
       "<p>5 rows × 31 columns</p>\n",
       "</div>"
      ],
      "text/plain": [
       "    FIPS  gop_2000_votes  dem_2000_votes  totalvotes_2000  gop_2000_prc  \\\n",
       "0  01001         11993.0          4942.0          17208.0         69.69   \n",
       "1  01003         40872.0         13997.0          56480.0         72.37   \n",
       "2  01005          5096.0          5188.0          10395.0         49.02   \n",
       "3  01007          4273.0          2710.0           7101.0         60.17   \n",
       "4  01009         12667.0          4977.0          17973.0         70.48   \n",
       "\n",
       "   dem_2000_prc  gop_minus_dem_prc_2000  gop_2004_votes  dem_2004_votes  \\\n",
       "0         28.72                   40.97         15196.0          4758.0   \n",
       "1         24.78                   47.59         52971.0         15599.0   \n",
       "2         49.91                   -0.89          5899.0          4832.0   \n",
       "3         38.16                   22.01          5472.0          2089.0   \n",
       "4         27.69                   42.79         17386.0          3938.0   \n",
       "\n",
       "   totalvotes_2004  ...  totalvotes_2012  gop_2012_prc  dem_2012_prc  \\\n",
       "0          20081.0  ...          23932.0         72.62         26.59   \n",
       "1          69320.0  ...          85338.0         77.36         21.59   \n",
       "2          10777.0  ...          11509.0         48.22         51.37   \n",
       "3           7600.0  ...           8420.0         72.83         26.15   \n",
       "4          21504.0  ...          24006.0         86.47         12.37   \n",
       "\n",
       "   gop_minus_dem_prc_2012  gop_2016_votes  dem_2016_votes  totalvotes_2016  \\\n",
       "0                   46.03         18172.0          5936.0          24973.0   \n",
       "1                   55.77         72883.0         18458.0          95215.0   \n",
       "2                   -3.15          5454.0          4871.0          10469.0   \n",
       "3                   46.68          6738.0          1874.0           8819.0   \n",
       "4                   74.10         22859.0          2156.0          25588.0   \n",
       "\n",
       "   gop_2016_prc  dem_2016_prc  gop_minus_dem_prc_2016  \n",
       "0         72.77         23.77                   49.00  \n",
       "1         76.55         19.39                   57.16  \n",
       "2         52.10         46.53                    5.57  \n",
       "3         76.40         21.25                   55.15  \n",
       "4         89.33          8.43                   80.90  \n",
       "\n",
       "[5 rows x 31 columns]"
      ]
     },
     "execution_count": 3,
     "metadata": {},
     "output_type": "execute_result"
    }
   ],
   "source": [
    "# Load the election data from a URL, making sure to \n",
    "# declare that FIPS is a string!  What happens if you don't\n",
    "# do this?\n",
    "\n",
    "election_url = 'https://raw.githubusercontent.com/thomaspingel/geodata/master/election/county_election_data_2000-2016.csv'\n",
    "election_df = pd.read_csv(election_url,dtype={'FIPS':str})\n",
    "election_df.head()"
   ]
  },
  {
   "cell_type": "code",
   "execution_count": 7,
   "metadata": {},
   "outputs": [
    {
     "data": {
      "text/plain": [
       "Republican    2650\n",
       "Democrat       504\n",
       "Name: winner_2016, dtype: int64"
      ]
     },
     "execution_count": 7,
     "metadata": {},
     "output_type": "execute_result"
    }
   ],
   "source": [
    "# We can create a column for whether republicans won in 2016\n",
    "# based on a simple boolean expression:\n",
    "\n",
    "idx = election_df['gop_2016_prc'] > election_df['dem_2016_prc']\n",
    "election_df['winner_2016'] = 'Democrat'\n",
    "election_df.loc[idx,'winner_2016'] = 'Republican'\n",
    "election_df['winner_2016'].value_counts()"
   ]
  },
  {
   "cell_type": "code",
   "execution_count": 29,
   "metadata": {},
   "outputs": [
    {
     "name": "stdout",
     "output_type": "stream",
     "text": [
      "winner_2016\n",
      "Democrat      145001.021825\n",
      "Republican     23937.530189\n",
      "Name: totalvotes_2016, dtype: float64\n",
      "\n",
      "\n",
      "t = -21.31612826499807  p = 2.686587105417912e-94\n"
     ]
    },
    {
     "data": {
      "image/png": "[encoded data removed]",
      "text/plain": [
       "<Figure size 432x288 with 1 Axes>"
      ]
     },
     "metadata": {
      "needs_background": "light"
     },
     "output_type": "display_data"
    }
   ],
   "source": [
    "# Are the differences significant?\n",
    "\n",
    "# Extract the data\n",
    "A = election_df.loc[election_df.winner_2016=='Republican','totalvotes_2016']\n",
    "B = election_df.loc[election_df.winner_2016=='Democrat','totalvotes_2016']\n",
    "\n",
    "group = election_df.groupby(by='winner_2016')\n",
    "print(group['totalvotes_2016'].mean())\n",
    "print('\\n')\n",
    "\n",
    "# Plot the results\n",
    "plt.figure()\n",
    "ax = plt.subplot(111)\n",
    "_ = plt.violinplot((A.values,B.values))\n",
    "_ = ax.set_xticks([1,2])\n",
    "_ = ax.set_xticklabels(['Republican','Democrat'])\n",
    "_ = plt.ylabel('population')\n",
    "\n",
    "# Run the t-test\n",
    "t,p = stats.ttest_ind(A,B)\n",
    "print('t =',t,' p =',p)"
   ]
  }
 ],
 "metadata": {
  "kernelspec": {
   "display_name": "Python 3",
   "language": "python",
   "name": "python3"
  },
  "language_info": {
   "codemirror_mode": {
    "name": "ipython",
    "version": 3
   },
   "file_extension": ".py",
   "mimetype": "text/x-python",
   "name": "python",
   "nbconvert_exporter": "python",
   "pygments_lexer": "ipython3",
   "version": "3.7.0"
  }
 },
 "nbformat": 4,
 "nbformat_minor": 4
}
