{
 "cells": [
  {
   "cell_type": "markdown",
   "metadata": {},
   "source": [
    "<B>Complete the following exercises. Each question is a single codeblock with the question at the top as a comment.</b>"
   ]
  },
  {
   "cell_type": "markdown",
   "metadata": {},
   "source": [
    "You may find the following resources helpful:\n",
    "    \n",
    "<a href=\"http://pandas.pydata.org/pandas-docs/stable/10min.html\">10 Minutes to Pandas</a><BR>\n",
    "<a href=\"https://www.youtube.com/watch?v=w26x-z-BdWQ\">Pandas Video Tutorial by Wes McKinney(!)</a><BR>\n",
    "<a href=\"https://github.com/guipsamora/pandas_exercises\">Pandas Exercises</a><BR>\n",
    "<a href=\"https://github.com/lemonbalm/pandas-exercises\">More Pandas Exercises</a><BR>"
   ]
  },
  {
   "cell_type": "markdown",
   "metadata": {},
   "source": [
    "* (1) Import numpy as np, matplotlib.pyplot as plt, and pandas as pd. Set matplotlib to inline display.\n",
    "* (2) Read the Fisher Iris Data in as a variable called df.\n",
    "* (3) Display the first five lines of df using head.\n",
    "* (4-7) - Plot a histogram of each of the four variables (leaf/sepal length/width).  Adjust the number of bins to produce a resolution you find instructive/visually satisfying.  Use xlabel and ylabel to label the axes.\n",
    "* (8) - Save this figure use savefig.\n",
    "* (9) Using groupby, group the data by species\n",
    "* (10) Using the groups, create a bar graph of the mean sepal length by species.  Label the axes.\n",
    "* (11) Use subplots to make a 2x2 pane figure, with each pane a scatterplot of your choosing.  Make sure axes are labeled!\n",
    "* (12) Use tail to print out the last 10 rows of df.\n",
    "* (13) Use a combination of np.sum() and a selector (e.g., (df['x'] > 3), count how many rows have a petal length greater than 40.\n",
    "* (14) How many have a sepal width below the median sepal width?\n",
    "* (15) Use groups to report the mean values for each variable.\n",
    "* (16) Calculate a new variable based on existing variables, and create a histogram of its distribution.\n",
    "* (17) Export the data with the new calculated variable as an Excel file.  Open it in Excel, and comment on its appearance.  Look at the documentation of to_excel and figure out how to make it so the index values (line numbers) don't get exported.\n",
    "* (18-25) Download the prepared election data (https://github.com/thomaspingel/geodata/blob/master/election/state_election_data_1976-2016.csv), load it as a new dataframe, and use some of the commands above to explore the dataset.  *Each question # should correspond to a single codeblock that examines and sheds light on the dataset.*  Focus not only on executing working code, but usefully exploring the data."
   ]
  },
  {
   "cell_type": "code",
   "execution_count": null,
   "metadata": {},
   "outputs": [],
   "source": []
  }
 ],
 "metadata": {
  "kernelspec": {
   "display_name": "Python 3",
   "language": "python",
   "name": "python3"
  },
  "language_info": {
   "codemirror_mode": {
    "name": "ipython",
    "version": 3
   },
   "file_extension": ".py",
   "mimetype": "text/x-python",
   "name": "python",
   "nbconvert_exporter": "python",
   "pygments_lexer": "ipython3",
   "version": "3.7.6"
  }
 },
 "nbformat": 4,
 "nbformat_minor": 2
}
