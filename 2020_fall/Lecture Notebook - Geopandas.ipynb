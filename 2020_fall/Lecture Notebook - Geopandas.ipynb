{
 "cells": [
  {
   "cell_type": "markdown",
   "metadata": {},
   "source": [
    "# Introduction to Geopandas"
   ]
  },
  {
   "cell_type": "markdown",
   "metadata": {},
   "source": [
    "Geopandas is a package that builds on Pandas syntax, but allows you to work with geospatial data.  It has a number of dependencies, including fiona and shapely, but if you're using the class environment, you should be in good shape already."
   ]
  },
  {
   "cell_type": "code",
   "execution_count": 2,
   "metadata": {},
   "outputs": [],
   "source": [
    "import geopandas"
   ]
  },
  {
   "cell_type": "code",
   "execution_count": 2,
   "metadata": {},
   "outputs": [],
   "source": [
    "# We'll import a few other tools we'll need now, too.\n",
    "\n",
    "import pandas as pd\n",
    "import numpy as np\n",
    "import matplotlib.pyplot as plt\n",
    "import seaborn\n",
    "import statsmodels.api as sm\n",
    "import statsmodels.formula.api as smf"
   ]
  },
  {
   "cell_type": "markdown",
   "metadata": {},
   "source": [
    "Geopandas is probably most often used to load local data, like shapefiles.  For instance, if we download some <a target=\"_blank\" href=\"https://www.naturalearthdata.com/http//www.naturalearthdata.com/download/110m/cultural/ne_110m_admin_0_countries.zip\">Nautral Earth</A> data and unzip it, we can load it."
   ]
  },
  {
   "cell_type": "code",
   "execution_count": 3,
   "metadata": {},
   "outputs": [
    {
     "data": {
      "text/html": [
       "<div>\n",
       "<style scoped>\n",
       "    .dataframe tbody tr th:only-of-type {\n",
       "        vertical-align: middle;\n",
       "    }\n",
       "\n",
       "    .dataframe tbody tr th {\n",
       "        vertical-align: top;\n",
       "    }\n",
       "\n",
       "    .dataframe thead th {\n",
       "        text-align: right;\n",
       "    }\n",
       "</style>\n",
       "<table border=\"1\" class=\"dataframe\">\n",
       "  <thead>\n",
       "    <tr style=\"text-align: right;\">\n",
       "      <th></th>\n",
       "      <th>featurecla</th>\n",
       "      <th>scalerank</th>\n",
       "      <th>LABELRANK</th>\n",
       "      <th>SOVEREIGNT</th>\n",
       "      <th>SOV_A3</th>\n",
       "      <th>ADM0_DIF</th>\n",
       "      <th>LEVEL</th>\n",
       "      <th>TYPE</th>\n",
       "      <th>ADMIN</th>\n",
       "      <th>ADM0_A3</th>\n",
       "      <th>...</th>\n",
       "      <th>NAME_KO</th>\n",
       "      <th>NAME_NL</th>\n",
       "      <th>NAME_PL</th>\n",
       "      <th>NAME_PT</th>\n",
       "      <th>NAME_RU</th>\n",
       "      <th>NAME_SV</th>\n",
       "      <th>NAME_TR</th>\n",
       "      <th>NAME_VI</th>\n",
       "      <th>NAME_ZH</th>\n",
       "      <th>geometry</th>\n",
       "    </tr>\n",
       "  </thead>\n",
       "  <tbody>\n",
       "    <tr>\n",
       "      <th>0</th>\n",
       "      <td>Admin-0 country</td>\n",
       "      <td>1</td>\n",
       "      <td>6</td>\n",
       "      <td>Fiji</td>\n",
       "      <td>FJI</td>\n",
       "      <td>0</td>\n",
       "      <td>2</td>\n",
       "      <td>Sovereign country</td>\n",
       "      <td>Fiji</td>\n",
       "      <td>FJI</td>\n",
       "      <td>...</td>\n",
       "      <td>피지</td>\n",
       "      <td>Fiji</td>\n",
       "      <td>Fidżi</td>\n",
       "      <td>Fiji</td>\n",
       "      <td>Фиджи</td>\n",
       "      <td>Fiji</td>\n",
       "      <td>Fiji</td>\n",
       "      <td>Fiji</td>\n",
       "      <td>斐濟</td>\n",
       "      <td>MULTIPOLYGON (((180.00000 -16.06713, 180.00000...</td>\n",
       "    </tr>\n",
       "    <tr>\n",
       "      <th>1</th>\n",
       "      <td>Admin-0 country</td>\n",
       "      <td>1</td>\n",
       "      <td>3</td>\n",
       "      <td>United Republic of Tanzania</td>\n",
       "      <td>TZA</td>\n",
       "      <td>0</td>\n",
       "      <td>2</td>\n",
       "      <td>Sovereign country</td>\n",
       "      <td>United Republic of Tanzania</td>\n",
       "      <td>TZA</td>\n",
       "      <td>...</td>\n",
       "      <td>탄자니아</td>\n",
       "      <td>Tanzania</td>\n",
       "      <td>Tanzania</td>\n",
       "      <td>Tanzânia</td>\n",
       "      <td>Танзания</td>\n",
       "      <td>Tanzania</td>\n",
       "      <td>Tanzanya</td>\n",
       "      <td>Tanzania</td>\n",
       "      <td>坦桑尼亚</td>\n",
       "      <td>POLYGON ((33.90371 -0.95000, 34.07262 -1.05982...</td>\n",
       "    </tr>\n",
       "    <tr>\n",
       "      <th>2</th>\n",
       "      <td>Admin-0 country</td>\n",
       "      <td>1</td>\n",
       "      <td>7</td>\n",
       "      <td>Western Sahara</td>\n",
       "      <td>SAH</td>\n",
       "      <td>0</td>\n",
       "      <td>2</td>\n",
       "      <td>Indeterminate</td>\n",
       "      <td>Western Sahara</td>\n",
       "      <td>SAH</td>\n",
       "      <td>...</td>\n",
       "      <td>서사하라</td>\n",
       "      <td>Westelijke Sahara</td>\n",
       "      <td>Sahara Zachodnia</td>\n",
       "      <td>Saara Ocidental</td>\n",
       "      <td>Западная Сахара</td>\n",
       "      <td>Västsahara</td>\n",
       "      <td>Batı Sahra</td>\n",
       "      <td>Tây Sahara</td>\n",
       "      <td>西撒哈拉</td>\n",
       "      <td>POLYGON ((-8.66559 27.65643, -8.66512 27.58948...</td>\n",
       "    </tr>\n",
       "    <tr>\n",
       "      <th>3</th>\n",
       "      <td>Admin-0 country</td>\n",
       "      <td>1</td>\n",
       "      <td>2</td>\n",
       "      <td>Canada</td>\n",
       "      <td>CAN</td>\n",
       "      <td>0</td>\n",
       "      <td>2</td>\n",
       "      <td>Sovereign country</td>\n",
       "      <td>Canada</td>\n",
       "      <td>CAN</td>\n",
       "      <td>...</td>\n",
       "      <td>캐나다</td>\n",
       "      <td>Canada</td>\n",
       "      <td>Kanada</td>\n",
       "      <td>Canadá</td>\n",
       "      <td>Канада</td>\n",
       "      <td>Kanada</td>\n",
       "      <td>Kanada</td>\n",
       "      <td>Canada</td>\n",
       "      <td>加拿大</td>\n",
       "      <td>MULTIPOLYGON (((-122.84000 49.00000, -122.9742...</td>\n",
       "    </tr>\n",
       "    <tr>\n",
       "      <th>4</th>\n",
       "      <td>Admin-0 country</td>\n",
       "      <td>1</td>\n",
       "      <td>2</td>\n",
       "      <td>United States of America</td>\n",
       "      <td>US1</td>\n",
       "      <td>1</td>\n",
       "      <td>2</td>\n",
       "      <td>Country</td>\n",
       "      <td>United States of America</td>\n",
       "      <td>USA</td>\n",
       "      <td>...</td>\n",
       "      <td>미국</td>\n",
       "      <td>Verenigde Staten van Amerika</td>\n",
       "      <td>Stany Zjednoczone</td>\n",
       "      <td>Estados Unidos</td>\n",
       "      <td>Соединённые Штаты Америки</td>\n",
       "      <td>USA</td>\n",
       "      <td>Amerika Birleşik Devletleri</td>\n",
       "      <td>Hoa Kỳ</td>\n",
       "      <td>美国</td>\n",
       "      <td>MULTIPOLYGON (((-122.84000 49.00000, -120.0000...</td>\n",
       "    </tr>\n",
       "  </tbody>\n",
       "</table>\n",
       "<p>5 rows × 95 columns</p>\n",
       "</div>"
      ],
      "text/plain": [
       "        featurecla  scalerank  LABELRANK                   SOVEREIGNT SOV_A3  \\\n",
       "0  Admin-0 country          1          6                         Fiji    FJI   \n",
       "1  Admin-0 country          1          3  United Republic of Tanzania    TZA   \n",
       "2  Admin-0 country          1          7               Western Sahara    SAH   \n",
       "3  Admin-0 country          1          2                       Canada    CAN   \n",
       "4  Admin-0 country          1          2     United States of America    US1   \n",
       "\n",
       "   ADM0_DIF  LEVEL               TYPE                        ADMIN ADM0_A3  \\\n",
       "0         0      2  Sovereign country                         Fiji     FJI   \n",
       "1         0      2  Sovereign country  United Republic of Tanzania     TZA   \n",
       "2         0      2      Indeterminate               Western Sahara     SAH   \n",
       "3         0      2  Sovereign country                       Canada     CAN   \n",
       "4         1      2            Country     United States of America     USA   \n",
       "\n",
       "   ...  NAME_KO                       NAME_NL            NAME_PL  \\\n",
       "0  ...       피지                          Fiji              Fidżi   \n",
       "1  ...     탄자니아                      Tanzania           Tanzania   \n",
       "2  ...     서사하라             Westelijke Sahara   Sahara Zachodnia   \n",
       "3  ...      캐나다                        Canada             Kanada   \n",
       "4  ...       미국  Verenigde Staten van Amerika  Stany Zjednoczone   \n",
       "\n",
       "           NAME_PT                    NAME_RU     NAME_SV  \\\n",
       "0             Fiji                      Фиджи        Fiji   \n",
       "1         Tanzânia                   Танзания    Tanzania   \n",
       "2  Saara Ocidental            Западная Сахара  Västsahara   \n",
       "3           Canadá                     Канада      Kanada   \n",
       "4   Estados Unidos  Соединённые Штаты Америки         USA   \n",
       "\n",
       "                       NAME_TR     NAME_VI NAME_ZH  \\\n",
       "0                         Fiji        Fiji      斐濟   \n",
       "1                     Tanzanya    Tanzania    坦桑尼亚   \n",
       "2                   Batı Sahra  Tây Sahara    西撒哈拉   \n",
       "3                       Kanada      Canada     加拿大   \n",
       "4  Amerika Birleşik Devletleri      Hoa Kỳ      美国   \n",
       "\n",
       "                                            geometry  \n",
       "0  MULTIPOLYGON (((180.00000 -16.06713, 180.00000...  \n",
       "1  POLYGON ((33.90371 -0.95000, 34.07262 -1.05982...  \n",
       "2  POLYGON ((-8.66559 27.65643, -8.66512 27.58948...  \n",
       "3  MULTIPOLYGON (((-122.84000 49.00000, -122.9742...  \n",
       "4  MULTIPOLYGON (((-122.84000 49.00000, -120.0000...  \n",
       "\n",
       "[5 rows x 95 columns]"
      ]
     },
     "execution_count": 3,
     "metadata": {},
     "output_type": "execute_result"
    }
   ],
   "source": [
    "df = geopandas.read_file(\"data/ne_110m_admin_0_countries.shp\")\n",
    "df.head()"
   ]
  },
  {
   "cell_type": "code",
   "execution_count": 4,
   "metadata": {},
   "outputs": [
    {
     "data": {
      "text/html": [
       "<div>\n",
       "<style scoped>\n",
       "    .dataframe tbody tr th:only-of-type {\n",
       "        vertical-align: middle;\n",
       "    }\n",
       "\n",
       "    .dataframe tbody tr th {\n",
       "        vertical-align: top;\n",
       "    }\n",
       "\n",
       "    .dataframe thead th {\n",
       "        text-align: right;\n",
       "    }\n",
       "</style>\n",
       "<table border=\"1\" class=\"dataframe\">\n",
       "  <thead>\n",
       "    <tr style=\"text-align: right;\">\n",
       "      <th></th>\n",
       "      <th>featurecla</th>\n",
       "      <th>scalerank</th>\n",
       "      <th>LABELRANK</th>\n",
       "      <th>SOVEREIGNT</th>\n",
       "      <th>SOV_A3</th>\n",
       "      <th>ADM0_DIF</th>\n",
       "      <th>LEVEL</th>\n",
       "      <th>TYPE</th>\n",
       "      <th>ADMIN</th>\n",
       "      <th>ADM0_A3</th>\n",
       "      <th>...</th>\n",
       "      <th>NAME_KO</th>\n",
       "      <th>NAME_NL</th>\n",
       "      <th>NAME_PL</th>\n",
       "      <th>NAME_PT</th>\n",
       "      <th>NAME_RU</th>\n",
       "      <th>NAME_SV</th>\n",
       "      <th>NAME_TR</th>\n",
       "      <th>NAME_VI</th>\n",
       "      <th>NAME_ZH</th>\n",
       "      <th>geometry</th>\n",
       "    </tr>\n",
       "  </thead>\n",
       "  <tbody>\n",
       "    <tr>\n",
       "      <th>0</th>\n",
       "      <td>Admin-0 country</td>\n",
       "      <td>1</td>\n",
       "      <td>6</td>\n",
       "      <td>Fiji</td>\n",
       "      <td>FJI</td>\n",
       "      <td>0</td>\n",
       "      <td>2</td>\n",
       "      <td>Sovereign country</td>\n",
       "      <td>Fiji</td>\n",
       "      <td>FJI</td>\n",
       "      <td>...</td>\n",
       "      <td>피지</td>\n",
       "      <td>Fiji</td>\n",
       "      <td>Fidżi</td>\n",
       "      <td>Fiji</td>\n",
       "      <td>Фиджи</td>\n",
       "      <td>Fiji</td>\n",
       "      <td>Fiji</td>\n",
       "      <td>Fiji</td>\n",
       "      <td>斐濟</td>\n",
       "      <td>MULTIPOLYGON (((180.00000 -16.06713, 180.00000...</td>\n",
       "    </tr>\n",
       "    <tr>\n",
       "      <th>1</th>\n",
       "      <td>Admin-0 country</td>\n",
       "      <td>1</td>\n",
       "      <td>3</td>\n",
       "      <td>United Republic of Tanzania</td>\n",
       "      <td>TZA</td>\n",
       "      <td>0</td>\n",
       "      <td>2</td>\n",
       "      <td>Sovereign country</td>\n",
       "      <td>United Republic of Tanzania</td>\n",
       "      <td>TZA</td>\n",
       "      <td>...</td>\n",
       "      <td>탄자니아</td>\n",
       "      <td>Tanzania</td>\n",
       "      <td>Tanzania</td>\n",
       "      <td>Tanzânia</td>\n",
       "      <td>Танзания</td>\n",
       "      <td>Tanzania</td>\n",
       "      <td>Tanzanya</td>\n",
       "      <td>Tanzania</td>\n",
       "      <td>坦桑尼亚</td>\n",
       "      <td>POLYGON ((33.90371 -0.95000, 34.07262 -1.05982...</td>\n",
       "    </tr>\n",
       "    <tr>\n",
       "      <th>2</th>\n",
       "      <td>Admin-0 country</td>\n",
       "      <td>1</td>\n",
       "      <td>7</td>\n",
       "      <td>Western Sahara</td>\n",
       "      <td>SAH</td>\n",
       "      <td>0</td>\n",
       "      <td>2</td>\n",
       "      <td>Indeterminate</td>\n",
       "      <td>Western Sahara</td>\n",
       "      <td>SAH</td>\n",
       "      <td>...</td>\n",
       "      <td>서사하라</td>\n",
       "      <td>Westelijke Sahara</td>\n",
       "      <td>Sahara Zachodnia</td>\n",
       "      <td>Saara Ocidental</td>\n",
       "      <td>Западная Сахара</td>\n",
       "      <td>Västsahara</td>\n",
       "      <td>Batı Sahra</td>\n",
       "      <td>Tây Sahara</td>\n",
       "      <td>西撒哈拉</td>\n",
       "      <td>POLYGON ((-8.66559 27.65643, -8.66512 27.58948...</td>\n",
       "    </tr>\n",
       "    <tr>\n",
       "      <th>3</th>\n",
       "      <td>Admin-0 country</td>\n",
       "      <td>1</td>\n",
       "      <td>2</td>\n",
       "      <td>Canada</td>\n",
       "      <td>CAN</td>\n",
       "      <td>0</td>\n",
       "      <td>2</td>\n",
       "      <td>Sovereign country</td>\n",
       "      <td>Canada</td>\n",
       "      <td>CAN</td>\n",
       "      <td>...</td>\n",
       "      <td>캐나다</td>\n",
       "      <td>Canada</td>\n",
       "      <td>Kanada</td>\n",
       "      <td>Canadá</td>\n",
       "      <td>Канада</td>\n",
       "      <td>Kanada</td>\n",
       "      <td>Kanada</td>\n",
       "      <td>Canada</td>\n",
       "      <td>加拿大</td>\n",
       "      <td>MULTIPOLYGON (((-122.84000 49.00000, -122.9742...</td>\n",
       "    </tr>\n",
       "    <tr>\n",
       "      <th>4</th>\n",
       "      <td>Admin-0 country</td>\n",
       "      <td>1</td>\n",
       "      <td>2</td>\n",
       "      <td>United States of America</td>\n",
       "      <td>US1</td>\n",
       "      <td>1</td>\n",
       "      <td>2</td>\n",
       "      <td>Country</td>\n",
       "      <td>United States of America</td>\n",
       "      <td>USA</td>\n",
       "      <td>...</td>\n",
       "      <td>미국</td>\n",
       "      <td>Verenigde Staten van Amerika</td>\n",
       "      <td>Stany Zjednoczone</td>\n",
       "      <td>Estados Unidos</td>\n",
       "      <td>Соединённые Штаты Америки</td>\n",
       "      <td>USA</td>\n",
       "      <td>Amerika Birleşik Devletleri</td>\n",
       "      <td>Hoa Kỳ</td>\n",
       "      <td>美国</td>\n",
       "      <td>MULTIPOLYGON (((-122.84000 49.00000, -120.0000...</td>\n",
       "    </tr>\n",
       "  </tbody>\n",
       "</table>\n",
       "<p>5 rows × 95 columns</p>\n",
       "</div>"
      ],
      "text/plain": [
       "        featurecla  scalerank  LABELRANK                   SOVEREIGNT SOV_A3  \\\n",
       "0  Admin-0 country          1          6                         Fiji    FJI   \n",
       "1  Admin-0 country          1          3  United Republic of Tanzania    TZA   \n",
       "2  Admin-0 country          1          7               Western Sahara    SAH   \n",
       "3  Admin-0 country          1          2                       Canada    CAN   \n",
       "4  Admin-0 country          1          2     United States of America    US1   \n",
       "\n",
       "   ADM0_DIF  LEVEL               TYPE                        ADMIN ADM0_A3  \\\n",
       "0         0      2  Sovereign country                         Fiji     FJI   \n",
       "1         0      2  Sovereign country  United Republic of Tanzania     TZA   \n",
       "2         0      2      Indeterminate               Western Sahara     SAH   \n",
       "3         0      2  Sovereign country                       Canada     CAN   \n",
       "4         1      2            Country     United States of America     USA   \n",
       "\n",
       "   ...  NAME_KO                       NAME_NL            NAME_PL  \\\n",
       "0  ...       피지                          Fiji              Fidżi   \n",
       "1  ...     탄자니아                      Tanzania           Tanzania   \n",
       "2  ...     서사하라             Westelijke Sahara   Sahara Zachodnia   \n",
       "3  ...      캐나다                        Canada             Kanada   \n",
       "4  ...       미국  Verenigde Staten van Amerika  Stany Zjednoczone   \n",
       "\n",
       "           NAME_PT                    NAME_RU     NAME_SV  \\\n",
       "0             Fiji                      Фиджи        Fiji   \n",
       "1         Tanzânia                   Танзания    Tanzania   \n",
       "2  Saara Ocidental            Западная Сахара  Västsahara   \n",
       "3           Canadá                     Канада      Kanada   \n",
       "4   Estados Unidos  Соединённые Штаты Америки         USA   \n",
       "\n",
       "                       NAME_TR     NAME_VI NAME_ZH  \\\n",
       "0                         Fiji        Fiji      斐濟   \n",
       "1                     Tanzanya    Tanzania    坦桑尼亚   \n",
       "2                   Batı Sahra  Tây Sahara    西撒哈拉   \n",
       "3                       Kanada      Canada     加拿大   \n",
       "4  Amerika Birleşik Devletleri      Hoa Kỳ      美国   \n",
       "\n",
       "                                            geometry  \n",
       "0  MULTIPOLYGON (((180.00000 -16.06713, 180.00000...  \n",
       "1  POLYGON ((33.90371 -0.95000, 34.07262 -1.05982...  \n",
       "2  POLYGON ((-8.66559 27.65643, -8.66512 27.58948...  \n",
       "3  MULTIPOLYGON (((-122.84000 49.00000, -122.9742...  \n",
       "4  MULTIPOLYGON (((-122.84000 49.00000, -120.0000...  \n",
       "\n",
       "[5 rows x 95 columns]"
      ]
     },
     "execution_count": 4,
     "metadata": {},
     "output_type": "execute_result"
    }
   ],
   "source": [
    "# And here's a cool feature... you don't even need to unzip the shapefile:\n",
    "\n",
    "df = geopandas.read_file(\"zip://data/ne_110m_admin_0_countries.zip\")\n",
    "df.head()"
   ]
  },
  {
   "cell_type": "code",
   "execution_count": 5,
   "metadata": {},
   "outputs": [
    {
     "data": {
      "text/html": [
       "<div>\n",
       "<style scoped>\n",
       "    .dataframe tbody tr th:only-of-type {\n",
       "        vertical-align: middle;\n",
       "    }\n",
       "\n",
       "    .dataframe tbody tr th {\n",
       "        vertical-align: top;\n",
       "    }\n",
       "\n",
       "    .dataframe thead th {\n",
       "        text-align: right;\n",
       "    }\n",
       "</style>\n",
       "<table border=\"1\" class=\"dataframe\">\n",
       "  <thead>\n",
       "    <tr style=\"text-align: right;\">\n",
       "      <th></th>\n",
       "      <th>scalerank</th>\n",
       "      <th>featureclass</th>\n",
       "      <th>geometry</th>\n",
       "    </tr>\n",
       "  </thead>\n",
       "  <tbody>\n",
       "    <tr>\n",
       "      <th>0</th>\n",
       "      <td>1</td>\n",
       "      <td>Country</td>\n",
       "      <td>POLYGON ((-59.57209 -80.04018, -59.86585 -80.5...</td>\n",
       "    </tr>\n",
       "    <tr>\n",
       "      <th>1</th>\n",
       "      <td>1</td>\n",
       "      <td>Country</td>\n",
       "      <td>POLYGON ((-159.20818 -79.49706, -161.12760 -79...</td>\n",
       "    </tr>\n",
       "    <tr>\n",
       "      <th>2</th>\n",
       "      <td>1</td>\n",
       "      <td>Country</td>\n",
       "      <td>POLYGON ((-45.15476 -78.04707, -43.92083 -78.4...</td>\n",
       "    </tr>\n",
       "    <tr>\n",
       "      <th>3</th>\n",
       "      <td>1</td>\n",
       "      <td>Country</td>\n",
       "      <td>POLYGON ((-121.21151 -73.50099, -119.91885 -73...</td>\n",
       "    </tr>\n",
       "    <tr>\n",
       "      <th>4</th>\n",
       "      <td>1</td>\n",
       "      <td>Country</td>\n",
       "      <td>POLYGON ((-125.55957 -73.48135, -124.03188 -73...</td>\n",
       "    </tr>\n",
       "  </tbody>\n",
       "</table>\n",
       "</div>"
      ],
      "text/plain": [
       "   scalerank featureclass                                           geometry\n",
       "0          1      Country  POLYGON ((-59.57209 -80.04018, -59.86585 -80.5...\n",
       "1          1      Country  POLYGON ((-159.20818 -79.49706, -161.12760 -79...\n",
       "2          1      Country  POLYGON ((-45.15476 -78.04707, -43.92083 -78.4...\n",
       "3          1      Country  POLYGON ((-121.21151 -73.50099, -119.91885 -73...\n",
       "4          1      Country  POLYGON ((-125.55957 -73.48135, -124.03188 -73..."
      ]
     },
     "execution_count": 5,
     "metadata": {},
     "output_type": "execute_result"
    }
   ],
   "source": [
    "# You can also load data directly from a URL.  For instance:\n",
    "\n",
    "url = \"http://d2ad6b4ur7yvpq.cloudfront.net/naturalearth-3.3.0/ne_110m_land.geojson\"\n",
    "df = geopandas.read_file(url)\n",
    "df.head()"
   ]
  },
  {
   "cell_type": "code",
   "execution_count": 6,
   "metadata": {},
   "outputs": [
    {
     "data": {
      "text/html": [
       "<div>\n",
       "<style scoped>\n",
       "    .dataframe tbody tr th:only-of-type {\n",
       "        vertical-align: middle;\n",
       "    }\n",
       "\n",
       "    .dataframe tbody tr th {\n",
       "        vertical-align: top;\n",
       "    }\n",
       "\n",
       "    .dataframe thead th {\n",
       "        text-align: right;\n",
       "    }\n",
       "</style>\n",
       "<table border=\"1\" class=\"dataframe\">\n",
       "  <thead>\n",
       "    <tr style=\"text-align: right;\">\n",
       "      <th></th>\n",
       "      <th>pop_est</th>\n",
       "      <th>continent</th>\n",
       "      <th>name</th>\n",
       "      <th>iso_a3</th>\n",
       "      <th>gdp_md_est</th>\n",
       "      <th>geometry</th>\n",
       "    </tr>\n",
       "  </thead>\n",
       "  <tbody>\n",
       "    <tr>\n",
       "      <th>0</th>\n",
       "      <td>920938</td>\n",
       "      <td>Oceania</td>\n",
       "      <td>Fiji</td>\n",
       "      <td>FJI</td>\n",
       "      <td>8374.0</td>\n",
       "      <td>MULTIPOLYGON (((180.00000 -16.06713, 180.00000...</td>\n",
       "    </tr>\n",
       "    <tr>\n",
       "      <th>1</th>\n",
       "      <td>53950935</td>\n",
       "      <td>Africa</td>\n",
       "      <td>Tanzania</td>\n",
       "      <td>TZA</td>\n",
       "      <td>150600.0</td>\n",
       "      <td>POLYGON ((33.90371 -0.95000, 34.07262 -1.05982...</td>\n",
       "    </tr>\n",
       "    <tr>\n",
       "      <th>2</th>\n",
       "      <td>603253</td>\n",
       "      <td>Africa</td>\n",
       "      <td>W. Sahara</td>\n",
       "      <td>ESH</td>\n",
       "      <td>906.5</td>\n",
       "      <td>POLYGON ((-8.66559 27.65643, -8.66512 27.58948...</td>\n",
       "    </tr>\n",
       "    <tr>\n",
       "      <th>3</th>\n",
       "      <td>35623680</td>\n",
       "      <td>North America</td>\n",
       "      <td>Canada</td>\n",
       "      <td>CAN</td>\n",
       "      <td>1674000.0</td>\n",
       "      <td>MULTIPOLYGON (((-122.84000 49.00000, -122.9742...</td>\n",
       "    </tr>\n",
       "    <tr>\n",
       "      <th>4</th>\n",
       "      <td>326625791</td>\n",
       "      <td>North America</td>\n",
       "      <td>United States of America</td>\n",
       "      <td>USA</td>\n",
       "      <td>18560000.0</td>\n",
       "      <td>MULTIPOLYGON (((-122.84000 49.00000, -120.0000...</td>\n",
       "    </tr>\n",
       "  </tbody>\n",
       "</table>\n",
       "</div>"
      ],
      "text/plain": [
       "     pop_est      continent                      name iso_a3  gdp_md_est  \\\n",
       "0     920938        Oceania                      Fiji    FJI      8374.0   \n",
       "1   53950935         Africa                  Tanzania    TZA    150600.0   \n",
       "2     603253         Africa                 W. Sahara    ESH       906.5   \n",
       "3   35623680  North America                    Canada    CAN   1674000.0   \n",
       "4  326625791  North America  United States of America    USA  18560000.0   \n",
       "\n",
       "                                            geometry  \n",
       "0  MULTIPOLYGON (((180.00000 -16.06713, 180.00000...  \n",
       "1  POLYGON ((33.90371 -0.95000, 34.07262 -1.05982...  \n",
       "2  POLYGON ((-8.66559 27.65643, -8.66512 27.58948...  \n",
       "3  MULTIPOLYGON (((-122.84000 49.00000, -122.9742...  \n",
       "4  MULTIPOLYGON (((-122.84000 49.00000, -120.0000...  "
      ]
     },
     "execution_count": 6,
     "metadata": {},
     "output_type": "execute_result"
    }
   ],
   "source": [
    "# And there are some preloaded maps use can use as well:\n",
    "\n",
    "df = geopandas.read_file(geopandas.datasets.get_path('naturalearth_lowres'))\n",
    "df.head()"
   ]
  },
  {
   "cell_type": "code",
   "execution_count": 7,
   "metadata": {},
   "outputs": [
    {
     "data": {
      "text/html": [
       "<div>\n",
       "<style scoped>\n",
       "    .dataframe tbody tr th:only-of-type {\n",
       "        vertical-align: middle;\n",
       "    }\n",
       "\n",
       "    .dataframe tbody tr th {\n",
       "        vertical-align: top;\n",
       "    }\n",
       "\n",
       "    .dataframe thead th {\n",
       "        text-align: right;\n",
       "    }\n",
       "</style>\n",
       "<table border=\"1\" class=\"dataframe\">\n",
       "  <thead>\n",
       "    <tr style=\"text-align: right;\">\n",
       "      <th></th>\n",
       "      <th>STATEFP</th>\n",
       "      <th>COUNTYFP</th>\n",
       "      <th>COUNTYNS</th>\n",
       "      <th>AFFGEOID</th>\n",
       "      <th>GEOID</th>\n",
       "      <th>NAME</th>\n",
       "      <th>LSAD</th>\n",
       "      <th>ALAND</th>\n",
       "      <th>AWATER</th>\n",
       "      <th>FIPS</th>\n",
       "      <th>...</th>\n",
       "      <th>gop_2012_prc</th>\n",
       "      <th>dem_2012_prc</th>\n",
       "      <th>gop_minus_dem_prc_2012</th>\n",
       "      <th>gop_2016_votes</th>\n",
       "      <th>dem_2016_votes</th>\n",
       "      <th>totalvotes_2016</th>\n",
       "      <th>gop_2016_prc</th>\n",
       "      <th>dem_2016_prc</th>\n",
       "      <th>gop_minus_dem_prc_2016</th>\n",
       "      <th>geometry</th>\n",
       "    </tr>\n",
       "  </thead>\n",
       "  <tbody>\n",
       "    <tr>\n",
       "      <th>0</th>\n",
       "      <td>39</td>\n",
       "      <td>131</td>\n",
       "      <td>01074078</td>\n",
       "      <td>0500000US39131</td>\n",
       "      <td>39131</td>\n",
       "      <td>Pike</td>\n",
       "      <td>06</td>\n",
       "      <td>1140324458</td>\n",
       "      <td>9567612</td>\n",
       "      <td>39131</td>\n",
       "      <td>...</td>\n",
       "      <td>49.09</td>\n",
       "      <td>49.08</td>\n",
       "      <td>0.01</td>\n",
       "      <td>7902.0</td>\n",
       "      <td>3539.0</td>\n",
       "      <td>11879.0</td>\n",
       "      <td>66.52</td>\n",
       "      <td>29.79</td>\n",
       "      <td>36.73</td>\n",
       "      <td>MULTIPOLYGON (((-83.35353 39.19758, -82.78589 ...</td>\n",
       "    </tr>\n",
       "    <tr>\n",
       "      <th>1</th>\n",
       "      <td>46</td>\n",
       "      <td>003</td>\n",
       "      <td>01266983</td>\n",
       "      <td>0500000US46003</td>\n",
       "      <td>46003</td>\n",
       "      <td>Aurora</td>\n",
       "      <td>06</td>\n",
       "      <td>1834813753</td>\n",
       "      <td>11201379</td>\n",
       "      <td>46003</td>\n",
       "      <td>...</td>\n",
       "      <td>57.43</td>\n",
       "      <td>39.71</td>\n",
       "      <td>17.72</td>\n",
       "      <td>974.0</td>\n",
       "      <td>340.0</td>\n",
       "      <td>1407.0</td>\n",
       "      <td>69.23</td>\n",
       "      <td>24.16</td>\n",
       "      <td>45.07</td>\n",
       "      <td>MULTIPOLYGON (((-98.80777 43.93522, -98.33151 ...</td>\n",
       "    </tr>\n",
       "  </tbody>\n",
       "</table>\n",
       "<p>2 rows × 41 columns</p>\n",
       "</div>"
      ],
      "text/plain": [
       "  STATEFP COUNTYFP  COUNTYNS        AFFGEOID  GEOID    NAME LSAD       ALAND  \\\n",
       "0      39      131  01074078  0500000US39131  39131    Pike   06  1140324458   \n",
       "1      46      003  01266983  0500000US46003  46003  Aurora   06  1834813753   \n",
       "\n",
       "     AWATER   FIPS  ...  gop_2012_prc  dem_2012_prc  gop_minus_dem_prc_2012  \\\n",
       "0   9567612  39131  ...         49.09         49.08                    0.01   \n",
       "1  11201379  46003  ...         57.43         39.71                   17.72   \n",
       "\n",
       "   gop_2016_votes  dem_2016_votes  totalvotes_2016  gop_2016_prc  \\\n",
       "0          7902.0          3539.0          11879.0         66.52   \n",
       "1           974.0           340.0           1407.0         69.23   \n",
       "\n",
       "   dem_2016_prc  gop_minus_dem_prc_2016  \\\n",
       "0         29.79                   36.73   \n",
       "1         24.16                   45.07   \n",
       "\n",
       "                                            geometry  \n",
       "0  MULTIPOLYGON (((-83.35353 39.19758, -82.78589 ...  \n",
       "1  MULTIPOLYGON (((-98.80777 43.93522, -98.33151 ...  \n",
       "\n",
       "[2 rows x 41 columns]"
      ]
     },
     "execution_count": 7,
     "metadata": {},
     "output_type": "execute_result"
    }
   ],
   "source": [
    "# Or Geopackages!  (If your geopackage has more than one layer, you can specify which layer with the \"layer=\" argument)\n",
    "\n",
    "df = geopandas.read_file('data/election.gpkg')\n",
    "df.head(2)"
   ]
  },
  {
   "cell_type": "code",
   "execution_count": 8,
   "metadata": {},
   "outputs": [],
   "source": [
    "# Writing out a shapefile (though be aware, not all formats are easily interchangeable!)\n",
    "\n",
    "df.to_file('out/out.shp')"
   ]
  },
  {
   "cell_type": "code",
   "execution_count": 9,
   "metadata": {},
   "outputs": [],
   "source": [
    "# But remember, it's just Pandas, so all those methods are there, too!\n",
    "# This one writes out everything to an Excel file \n",
    "# (but pick your poison, CSV, tab-delimited, etc.)\n",
    "\n",
    "df.to_excel('out/out.xlsx')"
   ]
  },
  {
   "cell_type": "code",
   "execution_count": 10,
   "metadata": {},
   "outputs": [],
   "source": [
    "# Here's everything but the geometry (in the right-most column) is written to a CSV file.\n",
    "\n",
    "df.iloc[:,:-1].to_csv('out/out.csv')"
   ]
  },
  {
   "cell_type": "markdown",
   "metadata": {},
   "source": [
    "For more information, see the <a href=\"http://geopandas.org/io.html\" target=\"_blank\">Geopandas Input/Output (I/O) documentation</a>."
   ]
  },
  {
   "cell_type": "markdown",
   "metadata": {},
   "source": [
    "# Geopandas As Just Pandas"
   ]
  },
  {
   "cell_type": "markdown",
   "metadata": {},
   "source": [
    "The beauty of using geopandas is that everything we've learned so far about working with data in Pandas still applies, only now we can read in our geodata directly."
   ]
  },
  {
   "cell_type": "code",
   "execution_count": 11,
   "metadata": {},
   "outputs": [
    {
     "data": {
      "text/plain": [
       "array(['pop_est', 'continent', 'name', 'iso_a3', 'gdp_md_est', 'geometry'],\n",
       "      dtype=object)"
      ]
     },
     "execution_count": 11,
     "metadata": {},
     "output_type": "execute_result"
    }
   ],
   "source": [
    "df = geopandas.read_file(geopandas.datasets.get_path('naturalearth_lowres'))\n",
    "df.columns.values"
   ]
  },
  {
   "cell_type": "markdown",
   "metadata": {},
   "source": [
    "## Calculations with numpy"
   ]
  },
  {
   "cell_type": "code",
   "execution_count": 12,
   "metadata": {},
   "outputs": [
    {
     "data": {
      "text/plain": [
       "9961396.0"
      ]
     },
     "execution_count": 12,
     "metadata": {},
     "output_type": "execute_result"
    }
   ],
   "source": [
    "# What's the median population of these countries?\n",
    "\n",
    "np.median(df['pop_est'])"
   ]
  },
  {
   "cell_type": "code",
   "execution_count": 13,
   "metadata": {},
   "outputs": [
    {
     "data": {
      "text/plain": [
       "array([   3182.4, 2716800. ])"
      ]
     },
     "execution_count": 13,
     "metadata": {},
     "output_type": "execute_result"
    }
   ],
   "source": [
    "# What are the 5th and 95th percentile of GDP?\n",
    "\n",
    "np.percentile(df['gdp_md_est'],[5,95])"
   ]
  },
  {
   "cell_type": "markdown",
   "metadata": {},
   "source": [
    "## Calculating fields"
   ]
  },
  {
   "cell_type": "code",
   "execution_count": 14,
   "metadata": {},
   "outputs": [],
   "source": [
    "df['gdp_per_capita'] = df['gdp_md_est'] / df['pop_est']"
   ]
  },
  {
   "cell_type": "markdown",
   "metadata": {},
   "source": [
    "## Plotting with matplotlib"
   ]
  },
  {
   "cell_type": "code",
   "execution_count": 15,
   "metadata": {},
   "outputs": [
    {
     "data": {
      "image/png": "[encoded data removed]",
      "text/plain": [
       "<Figure size 432x288 with 1 Axes>"
      ]
     },
     "metadata": {
      "needs_background": "light"
     },
     "output_type": "display_data"
    }
   ],
   "source": [
    "# Make a histogram of GDP:\n",
    "\n",
    "_ = plt.hist(df['gdp_md_est'],bins=50)\n",
    "\n",
    "# (the \"hist\" function returns bin information and counts, so we just collect it in a \"garbage\" variable)"
   ]
  },
  {
   "cell_type": "code",
   "execution_count": 16,
   "metadata": {},
   "outputs": [
    {
     "data": {
      "image/png": "[encoded data removed]",
      "text/plain": [
       "<Figure size 432x288 with 1 Axes>"
      ]
     },
     "metadata": {
      "needs_background": "light"
     },
     "output_type": "display_data"
    }
   ],
   "source": [
    "# Since the distribution is highly skewed, we might zoom in a bit, by only looking at countries with a GDP of less than 5 million.\n",
    "# We're using the \"loc\" function in pandas to subset / make a selection.  This is what we generally refer to as \"indexing\" and \n",
    "# it follows the same conventions as numpy.  You can read more about indexing on the Pandas documentation:\n",
    "# https://pandas.pydata.org/pandas-docs/stable/user_guide/indexing.html\n",
    "\n",
    "_ = plt.hist(df.loc[df['gdp_md_est'] < 5000000,'gdp_md_est'],bins=50)"
   ]
  },
  {
   "cell_type": "code",
   "execution_count": 17,
   "metadata": {},
   "outputs": [
    {
     "data": {
      "text/plain": [
       "Text(0, 0.5, 'log(gdp)')"
      ]
     },
     "execution_count": 17,
     "metadata": {},
     "output_type": "execute_result"
    },
    {
     "data": {
      "image/png": "[encoded data removed]",
      "text/plain": [
       "<Figure size 720x288 with 2 Axes>"
      ]
     },
     "metadata": {
      "needs_background": "light"
     },
     "output_type": "display_data"
    }
   ],
   "source": [
    "# Often our geographic data is crowded because it isn't distributed (remotely) normally.\n",
    "# In this case, sometimes a log transform is quite helpful in bringing out the pattern.\n",
    "\n",
    "plt.figure(figsize=(10,4))\n",
    "plt.subplot(121)\n",
    "plt.plot(df.pop_est,df.gdp_md_est,'.')\n",
    "plt.xlabel('pop')\n",
    "plt.ylabel('gdp')\n",
    "\n",
    "plt.subplot(122)\n",
    "plt.plot(np.log(df.pop_est),np.log(df.gdp_md_est),'.')\n",
    "plt.xlabel('log(pop)')\n",
    "plt.ylabel('log(gdp)')\n"
   ]
  },
  {
   "cell_type": "markdown",
   "metadata": {},
   "source": [
    "## Plotting with Seaborn"
   ]
  },
  {
   "cell_type": "code",
   "execution_count": 18,
   "metadata": {},
   "outputs": [
    {
     "data": {
      "text/plain": [
       "<matplotlib.axes._subplots.AxesSubplot at 0x23cb663d508>"
      ]
     },
     "execution_count": 18,
     "metadata": {},
     "output_type": "execute_result"
    },
    {
     "data": {
      "image/png": "[encoded data removed]",
      "text/plain": [
       "<Figure size 432x288 with 1 Axes>"
      ]
     },
     "metadata": {
      "needs_background": "light"
     },
     "output_type": "display_data"
    }
   ],
   "source": [
    "# We can use Seaborn to plot regressions (using a log transform to bring out detail).\n",
    "\n",
    "seaborn.regplot(x=np.log(df['pop_est']),y=np.log(df['gdp_md_est']))"
   ]
  },
  {
   "cell_type": "markdown",
   "metadata": {},
   "source": [
    "## Regressions with statsmodels"
   ]
  },
  {
   "cell_type": "code",
   "execution_count": 19,
   "metadata": {},
   "outputs": [
    {
     "name": "stdout",
     "output_type": "stream",
     "text": [
      "                            OLS Regression Results                            \n",
      "==============================================================================\n",
      "Dep. Variable:     np.log(gdp_md_est)   R-squared:                       0.667\n",
      "Model:                            OLS   Adj. R-squared:                  0.665\n",
      "Method:                 Least Squares   F-statistic:                     350.1\n",
      "Date:                Mon, 28 Sep 2020   Prob (F-statistic):           1.29e-43\n",
      "Time:                        14:26:25   Log-Likelihood:                -290.02\n",
      "No. Observations:                 177   AIC:                             584.0\n",
      "Df Residuals:                     175   BIC:                             590.4\n",
      "Df Model:                           1                                         \n",
      "Covariance Type:            nonrobust                                         \n",
      "===================================================================================\n",
      "                      coef    std err          t      P>|t|      [0.025      0.975]\n",
      "-----------------------------------------------------------------------------------\n",
      "Intercept          -2.3530      0.741     -3.177      0.002      -3.815      -0.891\n",
      "np.log(pop_est)     0.8616      0.046     18.712      0.000       0.771       0.953\n",
      "==============================================================================\n",
      "Omnibus:                       14.319   Durbin-Watson:                   1.119\n",
      "Prob(Omnibus):                  0.001   Jarque-Bera (JB):                6.962\n",
      "Skew:                          -0.275   Prob(JB):                       0.0308\n",
      "Kurtosis:                       2.199   Cond. No.                         127.\n",
      "==============================================================================\n",
      "\n",
      "Warnings:\n",
      "[1] Standard Errors assume that the covariance matrix of the errors is correctly specified.\n"
     ]
    }
   ],
   "source": [
    "# Or statsmodels to run a regression on the data.\n",
    "\n",
    "results = smf.ols(formula='np.log(gdp_md_est) ~ np.log(pop_est)',data=df).fit()\n",
    "\n",
    "# Print the report\n",
    "print(results.summary())"
   ]
  },
  {
   "cell_type": "markdown",
   "metadata": {},
   "source": [
    "# More than Pandas"
   ]
  },
  {
   "cell_type": "markdown",
   "metadata": {},
   "source": [
    "## Plotting"
   ]
  },
  {
   "cell_type": "code",
   "execution_count": 20,
   "metadata": {},
   "outputs": [
    {
     "ename": "ImportError",
     "evalue": "The descartes package is required for plotting polygons in geopandas. You can install it using 'conda install -c conda-forge descartes' or 'pip install descartes'.",
     "output_type": "error",
     "traceback": [
      "\u001b[1;31m---------------------------------------------------------------------------\u001b[0m",
      "\u001b[1;31mModuleNotFoundError\u001b[0m                       Traceback (most recent call last)",
      "\u001b[1;32mc:\\Anaconda3\\envs\\analysis_in_gis\\lib\\site-packages\\geopandas\\plotting.py\u001b[0m in \u001b[0;36m_plot_polygon_collection\u001b[1;34m(ax, geoms, values, color, cmap, vmin, vmax, **kwargs)\u001b[0m\n\u001b[0;32m    119\u001b[0m     \u001b[1;32mtry\u001b[0m\u001b[1;33m:\u001b[0m\u001b[1;33m\u001b[0m\u001b[1;33m\u001b[0m\u001b[0m\n\u001b[1;32m--> 120\u001b[1;33m         \u001b[1;32mfrom\u001b[0m \u001b[0mdescartes\u001b[0m\u001b[1;33m.\u001b[0m\u001b[0mpatch\u001b[0m \u001b[1;32mimport\u001b[0m \u001b[0mPolygonPatch\u001b[0m\u001b[1;33m\u001b[0m\u001b[1;33m\u001b[0m\u001b[0m\n\u001b[0m\u001b[0;32m    121\u001b[0m     \u001b[1;32mexcept\u001b[0m \u001b[0mImportError\u001b[0m\u001b[1;33m:\u001b[0m\u001b[1;33m\u001b[0m\u001b[1;33m\u001b[0m\u001b[0m\n",
      "\u001b[1;31mModuleNotFoundError\u001b[0m: No module named 'descartes'",
      "\nDuring handling of the above exception, another exception occurred:\n",
      "\u001b[1;31mImportError\u001b[0m                               Traceback (most recent call last)",
      "\u001b[1;32m<ipython-input-20-d8c16d27c2c1>\u001b[0m in \u001b[0;36m<module>\u001b[1;34m\u001b[0m\n\u001b[0;32m      3\u001b[0m \u001b[0mworld\u001b[0m \u001b[1;33m=\u001b[0m \u001b[0mgeopandas\u001b[0m\u001b[1;33m.\u001b[0m\u001b[0mread_file\u001b[0m\u001b[1;33m(\u001b[0m\u001b[0mgeopandas\u001b[0m\u001b[1;33m.\u001b[0m\u001b[0mdatasets\u001b[0m\u001b[1;33m.\u001b[0m\u001b[0mget_path\u001b[0m\u001b[1;33m(\u001b[0m\u001b[1;34m'naturalearth_lowres'\u001b[0m\u001b[1;33m)\u001b[0m\u001b[1;33m)\u001b[0m\u001b[1;33m\u001b[0m\u001b[1;33m\u001b[0m\u001b[0m\n\u001b[0;32m      4\u001b[0m \u001b[1;33m\u001b[0m\u001b[0m\n\u001b[1;32m----> 5\u001b[1;33m \u001b[0mworld\u001b[0m\u001b[1;33m.\u001b[0m\u001b[0mplot\u001b[0m\u001b[1;33m(\u001b[0m\u001b[1;33m)\u001b[0m\u001b[1;33m\u001b[0m\u001b[1;33m\u001b[0m\u001b[0m\n\u001b[0m",
      "\u001b[1;32mc:\\Anaconda3\\envs\\analysis_in_gis\\lib\\site-packages\\geopandas\\geodataframe.py\u001b[0m in \u001b[0;36mplot\u001b[1;34m(self, *args, **kwargs)\u001b[0m\n\u001b[0;32m    919\u001b[0m         \u001b[1;32mfrom\u001b[0m \u001b[0mthere\u001b[0m\u001b[1;33m.\u001b[0m\u001b[1;33m\u001b[0m\u001b[1;33m\u001b[0m\u001b[0m\n\u001b[0;32m    920\u001b[0m         \"\"\"\n\u001b[1;32m--> 921\u001b[1;33m         \u001b[1;32mreturn\u001b[0m \u001b[0mplot_dataframe\u001b[0m\u001b[1;33m(\u001b[0m\u001b[0mself\u001b[0m\u001b[1;33m,\u001b[0m \u001b[1;33m*\u001b[0m\u001b[0margs\u001b[0m\u001b[1;33m,\u001b[0m \u001b[1;33m**\u001b[0m\u001b[0mkwargs\u001b[0m\u001b[1;33m)\u001b[0m\u001b[1;33m\u001b[0m\u001b[1;33m\u001b[0m\u001b[0m\n\u001b[0m\u001b[0;32m    922\u001b[0m \u001b[1;33m\u001b[0m\u001b[0m\n\u001b[0;32m    923\u001b[0m     \u001b[0mplot\u001b[0m\u001b[1;33m.\u001b[0m\u001b[0m__doc__\u001b[0m \u001b[1;33m=\u001b[0m \u001b[0mplot_dataframe\u001b[0m\u001b[1;33m.\u001b[0m\u001b[0m__doc__\u001b[0m\u001b[1;33m\u001b[0m\u001b[1;33m\u001b[0m\u001b[0m\n",
      "\u001b[1;32mc:\\Anaconda3\\envs\\analysis_in_gis\\lib\\site-packages\\geopandas\\plotting.py\u001b[0m in \u001b[0;36mplot_dataframe\u001b[1;34m(df, column, cmap, color, ax, cax, categorical, legend, scheme, k, vmin, vmax, markersize, figsize, legend_kwds, categories, classification_kwds, missing_kwds, aspect, **style_kwds)\u001b[0m\n\u001b[0;32m    621\u001b[0m             \u001b[0mmarkersize\u001b[0m\u001b[1;33m=\u001b[0m\u001b[0mmarkersize\u001b[0m\u001b[1;33m,\u001b[0m\u001b[1;33m\u001b[0m\u001b[1;33m\u001b[0m\u001b[0m\n\u001b[0;32m    622\u001b[0m             \u001b[0maspect\u001b[0m\u001b[1;33m=\u001b[0m\u001b[0maspect\u001b[0m\u001b[1;33m,\u001b[0m\u001b[1;33m\u001b[0m\u001b[1;33m\u001b[0m\u001b[0m\n\u001b[1;32m--> 623\u001b[1;33m             \u001b[1;33m**\u001b[0m\u001b[0mstyle_kwds\u001b[0m\u001b[1;33m\u001b[0m\u001b[1;33m\u001b[0m\u001b[0m\n\u001b[0m\u001b[0;32m    624\u001b[0m         )\n\u001b[0;32m    625\u001b[0m \u001b[1;33m\u001b[0m\u001b[0m\n",
      "\u001b[1;32mc:\\Anaconda3\\envs\\analysis_in_gis\\lib\\site-packages\\geopandas\\plotting.py\u001b[0m in \u001b[0;36mplot_series\u001b[1;34m(s, cmap, color, ax, figsize, aspect, **style_kwds)\u001b[0m\n\u001b[0;32m    412\u001b[0m         \u001b[0mvalues_\u001b[0m \u001b[1;33m=\u001b[0m \u001b[0mvalues\u001b[0m\u001b[1;33m[\u001b[0m\u001b[0mpoly_idx\u001b[0m\u001b[1;33m]\u001b[0m \u001b[1;32mif\u001b[0m \u001b[0mcmap\u001b[0m \u001b[1;32melse\u001b[0m \u001b[1;32mNone\u001b[0m\u001b[1;33m\u001b[0m\u001b[1;33m\u001b[0m\u001b[0m\n\u001b[0;32m    413\u001b[0m         _plot_polygon_collection(\n\u001b[1;32m--> 414\u001b[1;33m             \u001b[0max\u001b[0m\u001b[1;33m,\u001b[0m \u001b[0mpolys\u001b[0m\u001b[1;33m,\u001b[0m \u001b[0mvalues_\u001b[0m\u001b[1;33m,\u001b[0m \u001b[0mfacecolor\u001b[0m\u001b[1;33m=\u001b[0m\u001b[0mfacecolor\u001b[0m\u001b[1;33m,\u001b[0m \u001b[0mcmap\u001b[0m\u001b[1;33m=\u001b[0m\u001b[0mcmap\u001b[0m\u001b[1;33m,\u001b[0m \u001b[1;33m**\u001b[0m\u001b[0mstyle_kwds\u001b[0m\u001b[1;33m\u001b[0m\u001b[1;33m\u001b[0m\u001b[0m\n\u001b[0m\u001b[0;32m    415\u001b[0m         )\n\u001b[0;32m    416\u001b[0m \u001b[1;33m\u001b[0m\u001b[0m\n",
      "\u001b[1;32mc:\\Anaconda3\\envs\\analysis_in_gis\\lib\\site-packages\\geopandas\\plotting.py\u001b[0m in \u001b[0;36m_plot_polygon_collection\u001b[1;34m(ax, geoms, values, color, cmap, vmin, vmax, **kwargs)\u001b[0m\n\u001b[0;32m    121\u001b[0m     \u001b[1;32mexcept\u001b[0m \u001b[0mImportError\u001b[0m\u001b[1;33m:\u001b[0m\u001b[1;33m\u001b[0m\u001b[1;33m\u001b[0m\u001b[0m\n\u001b[0;32m    122\u001b[0m         raise ImportError(\n\u001b[1;32m--> 123\u001b[1;33m             \u001b[1;34m\"The descartes package is required for plotting polygons in geopandas. \"\u001b[0m\u001b[1;33m\u001b[0m\u001b[1;33m\u001b[0m\u001b[0m\n\u001b[0m\u001b[0;32m    124\u001b[0m             \u001b[1;34m\"You can install it using 'conda install -c conda-forge descartes' or \"\u001b[0m\u001b[1;33m\u001b[0m\u001b[1;33m\u001b[0m\u001b[0m\n\u001b[0;32m    125\u001b[0m             \u001b[1;34m\"'pip install descartes'.\"\u001b[0m\u001b[1;33m\u001b[0m\u001b[1;33m\u001b[0m\u001b[0m\n",
      "\u001b[1;31mImportError\u001b[0m: The descartes package is required for plotting polygons in geopandas. You can install it using 'conda install -c conda-forge descartes' or 'pip install descartes'."
     ]
    },
    {
     "data": {
      "image/png": "[encoded data removed]",
      "text/plain": [
       "<Figure size 432x288 with 1 Axes>"
      ]
     },
     "metadata": {
      "needs_background": "light"
     },
     "output_type": "display_data"
    }
   ],
   "source": [
    "# Geopandas does more than just reads your data.  It also contains a mapping library to make choropleth maps:\n",
    "    \n",
    "world = geopandas.read_file(geopandas.datasets.get_path('naturalearth_lowres'))\n",
    "\n",
    "world.plot()"
   ]
  },
  {
   "cell_type": "markdown",
   "metadata": {},
   "source": [
    "## Choropleth Maps"
   ]
  },
  {
   "cell_type": "code",
   "execution_count": null,
   "metadata": {},
   "outputs": [],
   "source": [
    "# We can subset our data, and construct choropleth maps\n",
    "\n",
    "world = world[(world.pop_est>0) & (world.name!=\"Antarctica\")]\n",
    "world['gdp_per_cap'] = world.gdp_md_est / world.pop_est\n",
    "world.plot(column='gdp_per_cap',cmap=\"hot\")"
   ]
  },
  {
   "cell_type": "code",
   "execution_count": null,
   "metadata": {},
   "outputs": [],
   "source": [
    "# You can tinker with matplotlib settings to have more control over how the final figure renders, and to save it\n",
    "world = world[(world.pop_est>0) & (world.name!=\"Antarctica\")]\n",
    "world['gdp_per_cap'] = world.gdp_md_est / world.pop_est\n",
    "world.plot(column='gdp_per_cap',cmap=\"hot\")\n",
    "\n",
    "plt.axis('off')\n",
    "plt.savefig('out/geopandas_choropleth.png',dpi=300,bbox_inches='tight',pad_inches = 0)"
   ]
  },
  {
   "cell_type": "markdown",
   "metadata": {},
   "source": [
    "## Layers"
   ]
  },
  {
   "cell_type": "markdown",
   "metadata": {},
   "source": [
    "Layers are easily generated as well.  In this case, the first layer is plotted, and then the object from that is stored.  That \"base\" object is then passed to the next layer's plot method."
   ]
  },
  {
   "cell_type": "code",
   "execution_count": null,
   "metadata": {},
   "outputs": [],
   "source": [
    "world = geopandas.read_file(geopandas.datasets.get_path('naturalearth_lowres'))\n",
    "cities = geopandas.read_file(geopandas.datasets.get_path('naturalearth_cities'))\n",
    "\n",
    "base = world.plot(color='white', edgecolor='black')\n",
    "cities.plot(ax=base, marker='o', color='red', markersize=5);"
   ]
  },
  {
   "cell_type": "markdown",
   "metadata": {},
   "source": [
    "## Projections"
   ]
  },
  {
   "cell_type": "markdown",
   "metadata": {},
   "source": [
    "Geopandas can project your data easily.  The most common way is to use EPSG codes, which can be looked up in many places.  I use <a href=\"http://spatialreference.org/\" target=\"_blank\">spatialreference.org</a>/"
   ]
  },
  {
   "cell_type": "code",
   "execution_count": null,
   "metadata": {},
   "outputs": [],
   "source": [
    "world = geopandas.read_file(geopandas.datasets.get_path('naturalearth_lowres'))\n",
    "# Remove Antarctica!\n",
    "world = world[(world.name != \"Antarctica\") & (world.name != \"Fr. S. Antarctic Lands\")]\n",
    "# Reproject and plot\n",
    "world = world.to_crs(epsg=3395)\n",
    "world.plot()"
   ]
  },
  {
   "cell_type": "markdown",
   "metadata": {},
   "source": [
    "## More complicated projections"
   ]
  },
  {
   "cell_type": "code",
   "execution_count": null,
   "metadata": {},
   "outputs": [],
   "source": [
    "# If your projection doesn't have an EPSG code, you can pass a Proj4 string to define a projection.\n",
    "# Graticule and bounding box from natural earth: https://www.naturalearthdata.com/downloads/110m-physical-vectors/\n",
    "# For all the defined colors, see https://python-graph-gallery.com/100-calling-a-color-with-seaborn/\n",
    "\n",
    "proj4 = \"+proj=natearth\"\n",
    "\n",
    "bounding_box = geopandas.read_file(\"zip://data/ne_110m_wgs84_bounding_box.zip\")\n",
    "bounding_box = bounding_box.to_crs(proj4)\n",
    "\n",
    "world = geopandas.read_file(geopandas.datasets.get_path('naturalearth_lowres'))\n",
    "world = world[(world.name != \"Antarctica\") & (world.name != \"Fr. S. Antarctic Lands\")]\n",
    "world = world.to_crs(proj4)\n",
    "\n",
    "ax = bounding_box.plot(color='lightgray')\n",
    "world.plot(ax=ax)\n",
    "_ = plt.axis('off')\n",
    "plt.savefig('out/natural_earth.png',dpi=300,bbox_inches='tight',pad_inches = 0)"
   ]
  },
  {
   "cell_type": "markdown",
   "metadata": {},
   "source": [
    "# Geopandas is more than mapping"
   ]
  },
  {
   "cell_type": "markdown",
   "metadata": {},
   "source": [
    "Geopandas doesn't have all the features of a GIS, but many are available.  Take a look at the documentation here:\n",
    "<a href=\"http://geopandas.org/geometric_manipulations.html\" target=\"_blank\">http://geopandas.org/geometric_manipulations.html</a> to see the full list.  Calculating buffers, centroids, convex hulls, and simplifying geometry are all readily accessible."
   ]
  },
  {
   "cell_type": "code",
   "execution_count": null,
   "metadata": {},
   "outputs": [],
   "source": [
    "world = geopandas.read_file(geopandas.datasets.get_path('naturalearth_lowres'))\n",
    "mexico = world[world.name == \"Mexico\"]\n",
    "mexico.simplify(tolerance=.25).plot()"
   ]
  },
  {
   "cell_type": "code",
   "execution_count": null,
   "metadata": {},
   "outputs": [],
   "source": [
    "world.centroid.plot()"
   ]
  },
  {
   "cell_type": "code",
   "execution_count": null,
   "metadata": {},
   "outputs": [],
   "source": [
    "world.centroid.buffer(distance=4).plot(cmap=\"gist_ncar\")"
   ]
  },
  {
   "cell_type": "markdown",
   "metadata": {},
   "source": [
    "# Joining Data"
   ]
  },
  {
   "cell_type": "code",
   "execution_count": null,
   "metadata": {},
   "outputs": [],
   "source": [
    "# Geopandas is just Pandas, so joins work exactly the same way: with with df.merge or with pd.concat\n",
    "# Cartographic Boundary Files here: https://www.census.gov/geographies/mapping-files/time-series/geo/carto-boundary-file.html\n",
    "\n",
    "geometry = geopandas.read_file('zip://data/cb_2018_us_state_20m.zip')\n",
    "geometry.head(1)"
   ]
  },
  {
   "cell_type": "code",
   "execution_count": null,
   "metadata": {},
   "outputs": [],
   "source": [
    "attribute_data = pd.read_csv('https://raw.githubusercontent.com/thomaspingel/geodata/master/election/state_election_data_1976-2016.csv')\n",
    "attribute_data.head(1)"
   ]
  },
  {
   "cell_type": "code",
   "execution_count": null,
   "metadata": {},
   "outputs": [],
   "source": [
    "group_data = pd.read_csv('https://raw.githubusercontent.com/thomaspingel/geodata/master/state_groups.csv')\n",
    "group_data.head(1)"
   ]
  },
  {
   "cell_type": "code",
   "execution_count": null,
   "metadata": {},
   "outputs": [],
   "source": [
    "df = geometry.merge(attribute_data,how='left',left_on='STUSPS',right_on='state_po')\n",
    "df.head(1)"
   ]
  },
  {
   "cell_type": "code",
   "execution_count": null,
   "metadata": {},
   "outputs": [],
   "source": [
    "df = df.merge(group_data,how='left',left_on='STUSPS',right_on='code')\n",
    "df.head(1)"
   ]
  },
  {
   "cell_type": "markdown",
   "metadata": {},
   "source": [
    "# Dissolving"
   ]
  },
  {
   "cell_type": "code",
   "execution_count": null,
   "metadata": {},
   "outputs": [],
   "source": [
    "# We can group data with geopandas just as you'd expect, but we can also dissolve geometries with it:\n",
    "\n",
    "sub_df = df[['gop_2016_votes','totalvotes_2016','division','geometry']]\n",
    "groups = sub_df.dissolve(by='division',aggfunc='sum')\n",
    "groups['gop_prc_2016'] = 100 * groups.gop_2016_votes / groups.totalvotes_2016\n",
    "groups.head(2)"
   ]
  },
  {
   "cell_type": "code",
   "execution_count": null,
   "metadata": {},
   "outputs": [],
   "source": [
    "groups.plot(column = 'gop_prc_2016', scheme='quantiles', cmap='YlOrRd');"
   ]
  },
  {
   "cell_type": "code",
   "execution_count": null,
   "metadata": {},
   "outputs": [],
   "source": [
    "# A little ugly.  We can set the boundary easily with matplotlib, and add a legend:\n",
    "\n",
    "groups.plot(column = 'gop_prc_2016', scheme='quantiles', cmap='YlOrRd', legend=True, legend_kwds={'loc': 'lower left'});\n",
    "_ = plt.xlim([-180,-60])"
   ]
  },
  {
   "cell_type": "markdown",
   "metadata": {},
   "source": [
    "# Selection using geocoordinates"
   ]
  },
  {
   "cell_type": "code",
   "execution_count": null,
   "metadata": {},
   "outputs": [],
   "source": [
    "# Pandas lets us select spatially using the cx operator:\n",
    "\n",
    "world = geopandas.read_file(geopandas.datasets.get_path('naturalearth_lowres'))\n",
    "southern_world = world.cx[:, :0]\n",
    "southern_world.plot(figsize=(10, 3));"
   ]
  },
  {
   "cell_type": "markdown",
   "metadata": {},
   "source": [
    "# Creating a geodataframe from lat/long"
   ]
  },
  {
   "cell_type": "markdown",
   "metadata": {},
   "source": [
    "See https://geopandas.org/gallery/create_geopandas_from_pandas.html for more details"
   ]
  },
  {
   "cell_type": "code",
   "execution_count": null,
   "metadata": {},
   "outputs": [],
   "source": [
    "# We might have an excel or CSV document with lat/lon in them.  How do we turn this into a GEOdataframe, not just a dataframe?\n",
    "\n",
    "n = 50\n",
    "lat = np.random.randint(low=-90,high=90,size=(n))\n",
    "lon = np.random.randint(low=-180,high=180,size=(n))\n",
    "df = pd.DataFrame({'lat':lat,'lon':lon})\n",
    "df.head(3)"
   ]
  },
  {
   "cell_type": "code",
   "execution_count": null,
   "metadata": {},
   "outputs": [],
   "source": [
    "# We use the geopandas method .GeoDataFrame to construct the geodataframe and .points_from_xy to define the geometry\n",
    "\n",
    "gdf = geopandas.GeoDataFrame(df, geometry=geopandas.points_from_xy(df.lon, df.lat))"
   ]
  },
  {
   "cell_type": "code",
   "execution_count": null,
   "metadata": {},
   "outputs": [],
   "source": [
    "world = geopandas.read_file(geopandas.datasets.get_path('naturalearth_lowres'))\n",
    "basemap = world.plot(color='white',edgecolor='black')\n",
    "gdf.plot(ax=basemap,color='red')"
   ]
  },
  {
   "cell_type": "markdown",
   "metadata": {},
   "source": [
    "# Adding a lat/lon column calculated from the geometry"
   ]
  },
  {
   "cell_type": "code",
   "execution_count": 6,
   "metadata": {},
   "outputs": [
    {
     "data": {
      "text/html": [
       "<div>\n",
       "<style scoped>\n",
       "    .dataframe tbody tr th:only-of-type {\n",
       "        vertical-align: middle;\n",
       "    }\n",
       "\n",
       "    .dataframe tbody tr th {\n",
       "        vertical-align: top;\n",
       "    }\n",
       "\n",
       "    .dataframe thead th {\n",
       "        text-align: right;\n",
       "    }\n",
       "</style>\n",
       "<table border=\"1\" class=\"dataframe\">\n",
       "  <thead>\n",
       "    <tr style=\"text-align: right;\">\n",
       "      <th></th>\n",
       "      <th>name</th>\n",
       "      <th>geometry</th>\n",
       "      <th>latitude</th>\n",
       "      <th>longitude</th>\n",
       "    </tr>\n",
       "  </thead>\n",
       "  <tbody>\n",
       "    <tr>\n",
       "      <th>0</th>\n",
       "      <td>Vatican City</td>\n",
       "      <td>POINT (12.45339 41.90328)</td>\n",
       "      <td>41.903282</td>\n",
       "      <td>12.453387</td>\n",
       "    </tr>\n",
       "    <tr>\n",
       "      <th>1</th>\n",
       "      <td>San Marino</td>\n",
       "      <td>POINT (12.44177 43.93610)</td>\n",
       "      <td>43.936096</td>\n",
       "      <td>12.441770</td>\n",
       "    </tr>\n",
       "    <tr>\n",
       "      <th>2</th>\n",
       "      <td>Vaduz</td>\n",
       "      <td>POINT (9.51667 47.13372)</td>\n",
       "      <td>47.133724</td>\n",
       "      <td>9.516669</td>\n",
       "    </tr>\n",
       "    <tr>\n",
       "      <th>3</th>\n",
       "      <td>Luxembourg</td>\n",
       "      <td>POINT (6.13000 49.61166)</td>\n",
       "      <td>49.611660</td>\n",
       "      <td>6.130003</td>\n",
       "    </tr>\n",
       "    <tr>\n",
       "      <th>4</th>\n",
       "      <td>Palikir</td>\n",
       "      <td>POINT (158.14997 6.91664)</td>\n",
       "      <td>6.916644</td>\n",
       "      <td>158.149974</td>\n",
       "    </tr>\n",
       "  </tbody>\n",
       "</table>\n",
       "</div>"
      ],
      "text/plain": [
       "           name                   geometry   latitude   longitude\n",
       "0  Vatican City  POINT (12.45339 41.90328)  41.903282   12.453387\n",
       "1    San Marino  POINT (12.44177 43.93610)  43.936096   12.441770\n",
       "2         Vaduz   POINT (9.51667 47.13372)  47.133724    9.516669\n",
       "3    Luxembourg   POINT (6.13000 49.61166)  49.611660    6.130003\n",
       "4       Palikir  POINT (158.14997 6.91664)   6.916644  158.149974"
      ]
     },
     "execution_count": 6,
     "metadata": {},
     "output_type": "execute_result"
    }
   ],
   "source": [
    "gdf = geopandas.read_file(geopandas.datasets.get_path('naturalearth_cities'))\n",
    "gdf['latitude'] = gdf.geometry.y\n",
    "gdf['longitude'] = gdf.geometry.x\n",
    "gdf.head()"
   ]
  },
  {
   "cell_type": "code",
   "execution_count": 7,
   "metadata": {},
   "outputs": [],
   "source": [
    "df = gdf.loc[:,['name','latitude','longitude']]\n",
    "df.to_csv('out/geopandas_geometry_to_columns.csv')"
   ]
  },
  {
   "cell_type": "code",
   "execution_count": null,
   "metadata": {},
   "outputs": [],
   "source": []
  }
 ],
 "metadata": {
  "kernelspec": {
   "display_name": "Python 3",
   "language": "python",
   "name": "python3"
  },
  "language_info": {
   "codemirror_mode": {
    "name": "ipython",
    "version": 3
   },
   "file_extension": ".py",
   "mimetype": "text/x-python",
   "name": "python",
   "nbconvert_exporter": "python",
   "pygments_lexer": "ipython3",
   "version": "3.8.0"
  }
 },
 "nbformat": 4,
 "nbformat_minor": 2
}
