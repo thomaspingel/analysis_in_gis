{
 "cells": [
  {
   "cell_type": "code",
   "execution_count": 1,
   "metadata": {},
   "outputs": [],
   "source": [
    "import arcpy\n",
    "from arcgis.gis import GIS\n",
    "\n",
    "import pandas as pd"
   ]
  },
  {
   "cell_type": "code",
   "execution_count": 2,
   "metadata": {},
   "outputs": [],
   "source": [
    "# arcpy.env.workspace = r\"C:\\data\\Classes\\Current\\Analysis In GIS\"\n",
    "\n",
    "# If running outside of ArcGIS Pro, you may prefer this:\n",
    "arcpy.env.workspace = \".\"\n",
    "\n",
    "arcpy.env.overwriteOutput = True\n",
    "arcpy.env.addOutputsToMap = True"
   ]
  },
  {
   "cell_type": "markdown",
   "metadata": {},
   "source": [
    "# Load Data"
   ]
  },
  {
   "cell_type": "code",
   "execution_count": 3,
   "metadata": {},
   "outputs": [],
   "source": [
    "# Load the 2000-2016 county-level election results\n",
    "#\n",
    "# This data is assumed to be in the environment workspace and can be downloaded here:\n",
    "# https://github.com/thomaspingel/geodata/raw/master/election/election.gpkg\n",
    "#\n",
    "# See: https://github.com/thomaspingel/geodata/tree/master/election\n",
    "# for documentation of this data layer\n",
    "\n",
    "input_layer = r\"election.gpkg/data\""
   ]
  },
  {
   "cell_type": "code",
   "execution_count": 4,
   "metadata": {},
   "outputs": [],
   "source": [
    "# While geoprocessing tools can operate on saved data, I often prefer to load my data into memory, particularly\n",
    "# if I need to make modifications to it (like generating a unique_id field for use in OLS regression)\n",
    "# Whether you do this or not is entirely dependent on what you're trying to accomplish\n",
    "\n",
    "input_data = arcpy.CopyFeatures_management(input_layer, \"in_memory/data\")"
   ]
  },
  {
   "cell_type": "markdown",
   "metadata": {},
   "source": [
    "# Adding a Unique ID Field"
   ]
  },
  {
   "cell_type": "code",
   "execution_count": 5,
   "metadata": {},
   "outputs": [],
   "source": [
    "# If you have a license for it, the Add Incrementing ID Field will do it, but if not, one can add a unique id \n",
    "# field like so:\n",
    "\n",
    "arcpy.AddField_management(input_data,\"unique_id\",\"LONG\")\n",
    "\n",
    "# Arcpy uses \"cursors\" to loop through the data to inspect and modify data\n",
    "# This is a fairly awkward way to handle it compared to the normal Pandas syntax.\n",
    "# This is an example of how it could be done:\n",
    "\n",
    "x = 1\n",
    "with arcpy.da.UpdateCursor(input_data,[\"unique_id\"]) as cursor:\n",
    "    for row in cursor:\n",
    "        row[0] = x\n",
    "        cursor.updateRow(row)\n",
    "        x = x + 1"
   ]
  },
  {
   "cell_type": "markdown",
   "metadata": {},
   "source": [
    "# Inspecting data"
   ]
  },
  {
   "cell_type": "code",
   "execution_count": 6,
   "metadata": {},
   "outputs": [],
   "source": [
    "# Inspecting data is most easily done by creating a Pandas Dataframe representation of the feature class like so.\n",
    "# Keep in mind this is a copy of your data.\n",
    "\n",
    "df = pd.DataFrame.spatial.from_featureclass(input_data)"
   ]
  },
  {
   "cell_type": "code",
   "execution_count": 7,
   "metadata": {},
   "outputs": [
    {
     "data": {
      "text/html": [
       "<div>\n",
       "<style scoped>\n",
       "    .dataframe tbody tr th:only-of-type {\n",
       "        vertical-align: middle;\n",
       "    }\n",
       "\n",
       "    .dataframe tbody tr th {\n",
       "        vertical-align: top;\n",
       "    }\n",
       "\n",
       "    .dataframe thead th {\n",
       "        text-align: right;\n",
       "    }\n",
       "</style>\n",
       "<table border=\"1\" class=\"dataframe\">\n",
       "  <thead>\n",
       "    <tr style=\"text-align: right;\">\n",
       "      <th></th>\n",
       "      <th>OBJECTID</th>\n",
       "      <th>STATEFP</th>\n",
       "      <th>COUNTYFP</th>\n",
       "      <th>COUNTYNS</th>\n",
       "      <th>AFFGEOID</th>\n",
       "      <th>GEOID</th>\n",
       "      <th>NAME</th>\n",
       "      <th>LSAD</th>\n",
       "      <th>ALAND</th>\n",
       "      <th>AWATER</th>\n",
       "      <th>...</th>\n",
       "      <th>dem_2012_prc</th>\n",
       "      <th>gop_minus_dem_prc_2012</th>\n",
       "      <th>gop_2016_votes</th>\n",
       "      <th>dem_2016_votes</th>\n",
       "      <th>totalvotes_2016</th>\n",
       "      <th>gop_2016_prc</th>\n",
       "      <th>dem_2016_prc</th>\n",
       "      <th>gop_minus_dem_prc_2016</th>\n",
       "      <th>unique_id</th>\n",
       "      <th>SHAPE</th>\n",
       "    </tr>\n",
       "  </thead>\n",
       "  <tbody>\n",
       "    <tr>\n",
       "      <th>0</th>\n",
       "      <td>1</td>\n",
       "      <td>39</td>\n",
       "      <td>131</td>\n",
       "      <td>01074078</td>\n",
       "      <td>0500000US39131</td>\n",
       "      <td>39131</td>\n",
       "      <td>Pike</td>\n",
       "      <td>06</td>\n",
       "      <td>1140324458</td>\n",
       "      <td>9567612</td>\n",
       "      <td>...</td>\n",
       "      <td>49.08</td>\n",
       "      <td>0.01</td>\n",
       "      <td>7902.0</td>\n",
       "      <td>3539.0</td>\n",
       "      <td>11879.0</td>\n",
       "      <td>66.52</td>\n",
       "      <td>29.79</td>\n",
       "      <td>36.73</td>\n",
       "      <td>1</td>\n",
       "      <td>{\"rings\": [[[-83.35353099999998, 39.1975850000...</td>\n",
       "    </tr>\n",
       "    <tr>\n",
       "      <th>1</th>\n",
       "      <td>2</td>\n",
       "      <td>46</td>\n",
       "      <td>003</td>\n",
       "      <td>01266983</td>\n",
       "      <td>0500000US46003</td>\n",
       "      <td>46003</td>\n",
       "      <td>Aurora</td>\n",
       "      <td>06</td>\n",
       "      <td>1834813753</td>\n",
       "      <td>11201379</td>\n",
       "      <td>...</td>\n",
       "      <td>39.71</td>\n",
       "      <td>17.72</td>\n",
       "      <td>974.0</td>\n",
       "      <td>340.0</td>\n",
       "      <td>1407.0</td>\n",
       "      <td>69.23</td>\n",
       "      <td>24.16</td>\n",
       "      <td>45.07</td>\n",
       "      <td>2</td>\n",
       "      <td>{\"rings\": [[[-98.80777099999995, 43.9352230000...</td>\n",
       "    </tr>\n",
       "    <tr>\n",
       "      <th>2</th>\n",
       "      <td>3</td>\n",
       "      <td>55</td>\n",
       "      <td>035</td>\n",
       "      <td>01581077</td>\n",
       "      <td>0500000US55035</td>\n",
       "      <td>55035</td>\n",
       "      <td>Eau Claire</td>\n",
       "      <td>06</td>\n",
       "      <td>1652211310</td>\n",
       "      <td>18848512</td>\n",
       "      <td>...</td>\n",
       "      <td>55.95</td>\n",
       "      <td>-13.52</td>\n",
       "      <td>23311.0</td>\n",
       "      <td>27294.0</td>\n",
       "      <td>54885.0</td>\n",
       "      <td>42.47</td>\n",
       "      <td>49.73</td>\n",
       "      <td>-7.26</td>\n",
       "      <td>3</td>\n",
       "      <td>{\"rings\": [[[-91.65045499999997, 44.8559510000...</td>\n",
       "    </tr>\n",
       "    <tr>\n",
       "      <th>3</th>\n",
       "      <td>4</td>\n",
       "      <td>72</td>\n",
       "      <td>145</td>\n",
       "      <td>01804553</td>\n",
       "      <td>0500000US72145</td>\n",
       "      <td>72145</td>\n",
       "      <td>Vega Baja</td>\n",
       "      <td>13</td>\n",
       "      <td>118766803</td>\n",
       "      <td>57805868</td>\n",
       "      <td>...</td>\n",
       "      <td>NaN</td>\n",
       "      <td>NaN</td>\n",
       "      <td>NaN</td>\n",
       "      <td>NaN</td>\n",
       "      <td>NaN</td>\n",
       "      <td>NaN</td>\n",
       "      <td>NaN</td>\n",
       "      <td>NaN</td>\n",
       "      <td>4</td>\n",
       "      <td>{\"rings\": [[[-66.44898899999998, 18.3872140000...</td>\n",
       "    </tr>\n",
       "    <tr>\n",
       "      <th>4</th>\n",
       "      <td>5</td>\n",
       "      <td>48</td>\n",
       "      <td>259</td>\n",
       "      <td>01383915</td>\n",
       "      <td>0500000US48259</td>\n",
       "      <td>48259</td>\n",
       "      <td>Kendall</td>\n",
       "      <td>06</td>\n",
       "      <td>1715747531</td>\n",
       "      <td>1496797</td>\n",
       "      <td>...</td>\n",
       "      <td>17.11</td>\n",
       "      <td>64.47</td>\n",
       "      <td>15700.0</td>\n",
       "      <td>3643.0</td>\n",
       "      <td>20120.0</td>\n",
       "      <td>78.03</td>\n",
       "      <td>18.11</td>\n",
       "      <td>59.92</td>\n",
       "      <td>5</td>\n",
       "      <td>{\"rings\": [[[-98.92014699999999, 30.1382900000...</td>\n",
       "    </tr>\n",
       "  </tbody>\n",
       "</table>\n",
       "<p>5 rows × 43 columns</p>\n",
       "</div>"
      ],
      "text/plain": [
       "   OBJECTID STATEFP COUNTYFP  COUNTYNS        AFFGEOID  GEOID        NAME  \\\n",
       "0         1      39      131  01074078  0500000US39131  39131        Pike   \n",
       "1         2      46      003  01266983  0500000US46003  46003      Aurora   \n",
       "2         3      55      035  01581077  0500000US55035  55035  Eau Claire   \n",
       "3         4      72      145  01804553  0500000US72145  72145   Vega Baja   \n",
       "4         5      48      259  01383915  0500000US48259  48259     Kendall   \n",
       "\n",
       "  LSAD       ALAND    AWATER  ... dem_2012_prc  gop_minus_dem_prc_2012  \\\n",
       "0   06  1140324458   9567612  ...        49.08                    0.01   \n",
       "1   06  1834813753  11201379  ...        39.71                   17.72   \n",
       "2   06  1652211310  18848512  ...        55.95                  -13.52   \n",
       "3   13   118766803  57805868  ...          NaN                     NaN   \n",
       "4   06  1715747531   1496797  ...        17.11                   64.47   \n",
       "\n",
       "   gop_2016_votes  dem_2016_votes  totalvotes_2016  gop_2016_prc  \\\n",
       "0          7902.0          3539.0          11879.0         66.52   \n",
       "1           974.0           340.0           1407.0         69.23   \n",
       "2         23311.0         27294.0          54885.0         42.47   \n",
       "3             NaN             NaN              NaN           NaN   \n",
       "4         15700.0          3643.0          20120.0         78.03   \n",
       "\n",
       "   dem_2016_prc  gop_minus_dem_prc_2016  unique_id  \\\n",
       "0         29.79                   36.73          1   \n",
       "1         24.16                   45.07          2   \n",
       "2         49.73                   -7.26          3   \n",
       "3           NaN                     NaN          4   \n",
       "4         18.11                   59.92          5   \n",
       "\n",
       "                                               SHAPE  \n",
       "0  {\"rings\": [[[-83.35353099999998, 39.1975850000...  \n",
       "1  {\"rings\": [[[-98.80777099999995, 43.9352230000...  \n",
       "2  {\"rings\": [[[-91.65045499999997, 44.8559510000...  \n",
       "3  {\"rings\": [[[-66.44898899999998, 18.3872140000...  \n",
       "4  {\"rings\": [[[-98.92014699999999, 30.1382900000...  \n",
       "\n",
       "[5 rows x 43 columns]"
      ]
     },
     "execution_count": 7,
     "metadata": {},
     "output_type": "execute_result"
    }
   ],
   "source": [
    "df.head()"
   ]
  },
  {
   "cell_type": "code",
   "execution_count": 9,
   "metadata": {},
   "outputs": [
    {
     "data": {
      "text/plain": [
       "array(['OBJECTID', 'STATEFP', 'COUNTYFP', 'COUNTYNS', 'AFFGEOID', 'GEOID',\n",
       "       'NAME', 'LSAD', 'ALAND', 'AWATER', 'FIPS', 'gop_2000_votes',\n",
       "       'dem_2000_votes', 'totalvotes_2000', 'gop_2000_prc',\n",
       "       'dem_2000_prc', 'gop_minus_dem_prc_2000', 'gop_2004_votes',\n",
       "       'dem_2004_votes', 'totalvotes_2004', 'gop_2004_prc',\n",
       "       'dem_2004_prc', 'gop_minus_dem_prc_2004', 'gop_2008_votes',\n",
       "       'dem_2008_votes', 'totalvotes_2008', 'gop_2008_prc',\n",
       "       'dem_2008_prc', 'gop_minus_dem_prc_2008', 'gop_2012_votes',\n",
       "       'dem_2012_votes', 'totalvotes_2012', 'gop_2012_prc',\n",
       "       'dem_2012_prc', 'gop_minus_dem_prc_2012', 'gop_2016_votes',\n",
       "       'dem_2016_votes', 'totalvotes_2016', 'gop_2016_prc',\n",
       "       'dem_2016_prc', 'gop_minus_dem_prc_2016', 'unique_id', 'SHAPE'],\n",
       "      dtype=object)"
      ]
     },
     "execution_count": 9,
     "metadata": {},
     "output_type": "execute_result"
    }
   ],
   "source": [
    "df.columns.values"
   ]
  },
  {
   "cell_type": "markdown",
   "metadata": {},
   "source": [
    "# Ordinary Least Squares"
   ]
  },
  {
   "cell_type": "markdown",
   "metadata": {},
   "source": [
    "The OLS run looks like this.  \n",
    "\n",
    "* It requires an input of the feature class, a unique integer ID, and the output feature class of residuals.\n",
    "* The next two parameters are the dependent variable (what you're trying to predict) and independent variables.\n",
    "    * If you need more than one independent variable, separate them by semicolons\n",
    "* The last three optional parameters include diagnostic tables and reports\n",
    "\n",
    "See the [OLS documentation for more information](https://pro.arcgis.com/en/pro-app/tool-reference/spatial-statistics/ordinary-least-squares.htm).\n",
    "\n",
    "The results are not formatted as nicely in Notebook form.  But you can see the all the parameters, including the R<sup>2</sup> values in the output.  The R<sup>2</sup> value is the third item under \"OLS Diagnostics\".\n",
    "\n",
    "Results are also written out more nicely to the console (Python Command Window)"
   ]
  },
  {
   "cell_type": "code",
   "execution_count": 8,
   "metadata": {},
   "outputs": [
    {
     "data": {
      "text/html": [
       "<h2>Output</h2><table><tr><th>id</th><th>value</th></tr><tr><td>0</td><td>.\\ols_residuals.shp</td></tr><tr><td>1</td><td>.\\ols_coefficients.dbf</td></tr><tr><td>2</td><td>.\\ols_diagnostics.dbf</td></tr><tr><td>3</td><td>.\\ols_output_report.pdf</td></tr></table><h2>Messages</h2>Start Time: Wednesday, November 11, 2020 3:52:16 PM<br/>WARNING 000916: The input feature class does not appear to contain projected data.<br/>WARNING 000642: Problems reading 108 of 3220 total records.<br/>WARNING 000848: Features with bad records (only includes first 30): OBJECTID = 4, 22, 24, 36, 62, 89, 183, 217, 284, 351, 353, 362, 364, 399, 400, 401, 409, 410, 413, 430, 479, 498, 511, 549, 557, 602, 635, 657, 658, 861.<br/><br/>                                             Summary of OLS Results                                            <br/>              Variable Coefficient [a] StdError t-Statistic Probability [b] Robust_SE  Robust_t Robust_Pr [b]   VIF [c]<br/>             Intercept        9.437417 0.254965   37.014603       0.000000*  0.284384 33.185505     0.000000*  --------<br/>GOP_MINUS_DEM_PRC_2012        1.315209 0.029332   44.838044       0.000000*  0.040115 32.785580     0.000000* 23.521399<br/>GOP_MINUS_DEM_PRC_2008       -0.363219 0.031339  -11.589908       0.000000*  0.042409 -8.564716     0.000000* 23.521399<br/><br/><br/>                                               OLS Diagnostics                                               <br/>Input Features:                      data   Dependent Variable:                          GOP_MINUS_DEM_PRC_2016 <br/>Number of Observations:              3112   Akaike's Information Criterion (AICc) [d]:             23155.373693 <br/>Multiple R-Squared [d]:          0.895093   Adjusted R-Squared [d]:                                    0.895026 <br/>Joint F-Statistic [e]:       13263.387026   Prob(>F), (2,3109) degrees of freedom:                     0.000000*<br/>Joint Wald Statistic [e]:    21184.897220   Prob(>chi-squared), (2) degrees of freedom:                0.000000*<br/>Koenker (BP) Statistic [f]:    128.401616   Prob(>chi-squared), (2) degrees of freedom:                0.000000*<br/>Jarque-Bera Statistic [g]:     570.609959   Prob(>chi-squared), (2) degrees of freedom:                0.000000*<br/><br/><br/>Notes on Interpretation<br/> *  An asterisk next to a number indicates a statistically significant p-value (p < 0.01).                                                                                                                                                                                                                                                                <br/>[a] Coefficient: Represents the strength and type of relationship between each explanatory variable and the dependent variable.                                                                                                                                                                                                                           <br/>[b] Probability and Robust Probability (Robust_Pr): Asterisk (*) indicates a coefficient is statistically significant (p < 0.01); if the Koenker (BP) Statistic [f] is statistically significant, use the Robust Probability column (Robust_Pr) to determine coefficient significance.                                                                    <br/>[c] Variance Inflation Factor (VIF): Large Variance Inflation Factor (VIF) values (> 7.5) indicate redundancy among explanatory variables.                                                                                                                                                                                                                <br/>[d] R-Squared and Akaike's Information Criterion (AICc): Measures of model fit/performance.                                                                                                                                                                                                                                                               <br/>[e] Joint F and Wald Statistics: Asterisk (*) indicates overall model significance (p < 0.01); if the Koenker (BP) Statistic [f] is statistically significant, use the Wald Statistic to determine overall model significance.                                                                                                                            <br/>[f] Koenker (BP) Statistic: When this test is statistically significant (p < 0.01), the relationships modeled are not consistent (either due to non-stationarity or heteroskedasticity).  You should rely on the Robust Probabilities (Robust_Pr) to determine coefficient significance and on the Wald Statistic to determine overall model significance.<br/>[g] Jarque-Bera Statistic: When this test is statistically significant (p < 0.01) model predictions are biased (the residuals are not normally distributed).                                                                                                                                                                                              <br/><br/>WARNING 000851: Use the Spatial Autocorrelation (Moran's I) Tool to ensure residuals are not spatially autocorrelated.<br/>Writing Coefficient Output Table....<br/>.\\ols_coefficients.dbf<br/>Writing Diagnostic Output Table....<br/>.\\ols_diagnostics.dbf<br/>Writing output graphic file....<br/>.\\ols_output_report.pdf<br/>Succeeded at Wednesday, November 11, 2020 3:52:22 PM (Elapsed Time: 5.97 seconds)<br/><style>.rendered_html td, .rendered_html th {text-align: left;}.rendered_html tbody {border: 1px solid black;}</style>"
      ],
      "text/plain": [
       "<Result '.\\\\ols_residuals.shp'>"
      ]
     },
     "execution_count": 8,
     "metadata": {},
     "output_type": "execute_result"
    }
   ],
   "source": [
    "arcpy.OrdinaryLeastSquares_stats(input_data,\"unique_id\",'ols_residuals.shp',\n",
    "                                 'gop_minus_dem_prc_2016','gop_minus_dem_prc_2012;gop_minus_dem_prc_2008',\n",
    "                                 'ols_coefficients.dbf','ols_diagnostics.dbf','ols_output_report.pdf')"
   ]
  },
  {
   "cell_type": "markdown",
   "metadata": {},
   "source": [
    "# Generalized Linear Regression"
   ]
  },
  {
   "cell_type": "markdown",
   "metadata": {},
   "source": [
    "GLR is a newer version of the OLS tool.  It doesn't require a unique_id, and includes the ability to specify continuous, count (Poisson), and binary (logistic) models.\n",
    "\n",
    "The GLR run looks like this.  \n",
    "\n",
    "* It requires inputs of:\n",
    "    * The feature class\n",
    "    * The dependent variable field\n",
    "    * The model type: CONTINUOUS, COUNT, or BINARY\n",
    "    * The output feature class for the residuals\n",
    "    * The independent variables.  If more than one, seperate with semicolons\n",
    "    * More optional parameters\n",
    "\n",
    "See the [GLR documentation for more information](https://pro.arcgis.com/en/pro-app/tool-reference/spatial-statistics/generalized-linear-regression.htm) for a full explanation.\n",
    "\n",
    "The results are not formatted as nicely in Notebook form.  But you can see the all the parameters, including the R<sup>2</sup> values in the output.  The R<sup>2</sup> value is the third item under \"GLR Diagnostics\".\n",
    "\n",
    "Results are also written out more nicely to the console (Python Command Window)"
   ]
  },
  {
   "cell_type": "code",
   "execution_count": 9,
   "metadata": {},
   "outputs": [
    {
     "data": {
      "text/html": [
       "<h2>Output</h2><table><tr><th>id</th><th>value</th></tr><tr><td>0</td><td>.\\glr_residuals.shp</td></tr><tr><td>1</td><td></td></tr></table><h2>Messages</h2>Start Time: Wednesday, November 11, 2020 3:56:22 PM<br/>WARNING 001605: Distances for Geographic Coordinates (degrees, minutes, seconds) are analyzed using Chordal Distances in meters.<br/>WARNING 000642: Problems reading 108 of 3220 total records.<br/>WARNING 000848: Features with bad records (only includes first 30): OBJECTID = 4, 22, 24, 36, 62, 89, 183, 217, 284, 351, 353, 362, 364, 399, 400, 401, 409, 410, 413, 430, 479, 498, 511, 549, 557, 602, 635, 657, 658, 861.<br/><br/>------------------------ Summary of GLR Results [Model Type: Continuous (Gaussian/OLS)] -----------------------<br/>---------------------------------------------------------------------------------------------------------------<br/>              Variable Coefficient [a] StdError t-Statistic Probability [b] Robust_SE  Robust_t Robust_Pr [b]   VIF [c]<br/>             Intercept        9.437417 0.254965   37.014603       0.000000*  0.284384 33.185505     0.000000*  --------<br/>GOP_MINUS_DEM_PRC_2012        1.315209 0.029332   44.838044       0.000000*  0.040115 32.785580     0.000000* 23.521399<br/>GOP_MINUS_DEM_PRC_2008       -0.363219 0.031339  -11.589908       0.000000*  0.042409 -8.564716     0.000000* 23.521399<br/>---------------------------------------------------------------------------------------------------------------<br/><br/><br/>---------------------------------------------- GLR Diagnostics ----------------------------------------------<br/>-------------------------------------------------------------------------------------------------------------<br/>Input Features:                      data   Dependent Variable:                          GOP_MINUS_DEM_PRC_2016 <br/>Number of Observations:              3112   Akaike's Information Criterion (AICc) [d]:             23155.373693 <br/>Multiple R-Squared [d]:          0.895093   Adjusted R-Squared [d]:                                    0.895026 <br/>Joint F-Statistic [e]:       13263.387026   Prob(>F), (2,3109) degrees of freedom:                     0.000000*<br/>Joint Wald Statistic [e]:    21184.897220   Prob(>chi-squared), (2) degrees of freedom:                0.000000*<br/>Koenker (BP) Statistic [f]:    128.401616   Prob(>chi-squared), (2) degrees of freedom:                0.000000*<br/>Jarque-Bera Statistic [g]:     570.609959   Prob(>chi-squared), (2) degrees of freedom:                0.000000*<br/>-------------------------------------------------------------------------------------------------------------<br/><br/><br/>Notes on Interpretation<br/> *  An asterisk next to a number indicates a statistically significant p-value (p < 0.01).                                                                                                                                                                                                                                                                <br/>[a] Coefficient: Represents the strength and type of relationship between each explanatory variable and the dependent variable.                                                                                                                                                                                                                           <br/>[b] Probability and Robust Probability (Robust_Pr): Asterisk (*) indicates a coefficient is statistically significant (p < 0.01); if the Koenker (BP) Statistic [f] is statistically significant, use the Robust Probability column (Robust_Pr) to determine coefficient significance.                                                                    <br/>[c] Variance Inflation Factor (VIF): Large Variance Inflation Factor (VIF) values (> 7.5) indicate redundancy among explanatory variables.                                                                                                                                                                                                                <br/>[d] R-Squared and Akaike's Information Criterion (AICc): Measures of model fit/performance.                                                                                                                                                                                                                                                               <br/>[e] Joint F and Wald Statistics: Asterisk (*) indicates overall model significance (p < 0.01); if the Koenker (BP) Statistic [f] is statistically significant, use the Wald Statistic to determine overall model significance.                                                                                                                            <br/>[f] Koenker (BP) Statistic: When this test is statistically significant (p < 0.01), the relationships modeled are not consistent (either due to non-stationarity or heteroskedasticity).  You should rely on the Robust Probabilities (Robust_Pr) to determine coefficient significance and on the Wald Statistic to determine overall model significance.<br/>[g] Jarque-Bera Statistic: When this test is statistically significant (p < 0.01) model predictions are biased (the residuals are not normally distributed).                                                                                                                                                                                              <br/><br/>Succeeded at Wednesday, November 11, 2020 3:56:23 PM (Elapsed Time: 1.16 seconds)<br/><style>.rendered_html td, .rendered_html th {text-align: left;}.rendered_html tbody {border: 1px solid black;}</style>"
      ],
      "text/plain": [
       "<Result '.\\\\glr_residuals.shp'>"
      ]
     },
     "execution_count": 9,
     "metadata": {},
     "output_type": "execute_result"
    }
   ],
   "source": [
    "arcpy.stats.GeneralizedLinearRegression(input_data,\"gop_minus_dem_prc_2016\",'CONTINUOUS',\n",
    "                                        'glr_residuals.shp','gop_minus_dem_prc_2012;gop_minus_dem_prc_2008')"
   ]
  },
  {
   "cell_type": "markdown",
   "metadata": {},
   "source": [
    "# Geographically Weighted Regression"
   ]
  },
  {
   "cell_type": "markdown",
   "metadata": {},
   "source": [
    "GWR uses nearby neighbors to improve prediction, and can be considered a spatial extension to OLS/GLR.\n",
    "It doesn't require a unique_id, and includes the ability to specify continuous, count (Poisson), and binary (logistic) models.\n",
    "\n",
    "The GWR run looks like this.\n",
    "\n",
    "It requires inputs of:\n",
    "* The feature class\n",
    "* The dependent variable field\n",
    "* The model type: CONTINUOUS, COUNT, or BINARY\n",
    "* The independent variables. If more than one, seperate with semicolons [Note: These two parameters are reversed from GLR]\n",
    "* The output feature class for the residuals [Note: These two parameters are reversed from GLR]\n",
    "* Two parameters to specify how neighbors are defined\n",
    "* More optional Parameters\n",
    "\n",
    "See the [GLR documentation](https://pro.arcgis.com/en/pro-app/tool-reference/spatial-statistics/geographicallyweightedregression.htm) for more information for a full explanation.\n",
    "\n",
    "The results are more nicely formatted than the other two. \n",
    "R<sup>2</sup> values are given in the last table, \"Model Diagnostics\"."
   ]
  },
  {
   "cell_type": "code",
   "execution_count": 10,
   "metadata": {},
   "outputs": [
    {
     "data": {
      "text/html": [
       "<h2>Output</h2><table><tr><th>id</th><th>value</th></tr><tr><td>0</td><td>.\\gwr_residuals.shp</td></tr><tr><td>1</td><td></td></tr><tr><td>2</td><td></td></tr></table><h2>Messages</h2>Start Time: Wednesday, November 11, 2020 3:58:50 PM<br/>WARNING 001605: Distances for Geographic Coordinates (degrees, minutes, seconds) are analyzed using Chordal Distances in meters.<br/>WARNING 000642: Problems reading 108 of 3220 total records.<br/>WARNING 000848: Features with bad records (only includes first 30): OBJECTID = 4, 22, 24, 36, 62, 89, 183, 217, 284, 351, 353, 362, 364, 399, 400, 401, 409, 410, 413, 430, 479, 498, 511, 549, 557, 602, 635, 657, 658, 861.<br/><br/>--- Golden Search Results ---<br/>Number of Neighbors       AICc<br/>30                  20617.7896<br/>1000                21947.7885<br/>401                 21456.2751<br/>629                 21665.6264<br/>259                 21299.2212<br/>172                 21149.0059<br/>117                 21016.3863<br/>84                  20896.5245<br/>63                  20786.7037<br/>51                  20704.9574<br/>43                  20656.1091<br/>38                  20631.0070<br/>35                  20619.4971<br/>33                  20617.3170<br/>32                  20616.1363<br/>31                  20616.9377<br/>-----------------------------<br/><br/>WARNING 110306: The final model didn't have the lowest AICc encountered in the Golden Search Results.<br/><br/>-------------- Analysis Details -------------<br/>Number of Features:                       3112<br/>Dependent Variable:     GOP_MINUS_DEM_PRC_2016<br/>Explanatory Variables:  GOP_MINUS_DEM_PRC_2012<br/>                        GOP_MINUS_DEM_PRC_2008<br/>Number of Neighbors:                        31<br/>---------------------------------------------<br/><br/>---------- Model Diagnostics -----------<br/>R2:                                0.9739<br/>AdjR2:                             0.9630<br/>AICc:                          20616.9377<br/>Sigma-Squared:                    35.1368<br/>Sigma-Squared MLE:                24.7663<br/>Effective Degrees of Freedom:   2193.5025<br/>----------------------------------------<br/><br/>Succeeded at Wednesday, November 11, 2020 3:58:58 PM (Elapsed Time: 7.43 seconds)<br/><style>.rendered_html td, .rendered_html th {text-align: left;}.rendered_html tbody {border: 1px solid black;}</style>"
      ],
      "text/plain": [
       "<Result '.\\\\gwr_residuals.shp'>"
      ]
     },
     "execution_count": 10,
     "metadata": {},
     "output_type": "execute_result"
    }
   ],
   "source": [
    "arcpy.stats.GWR(input_data,\"gop_minus_dem_prc_2016\",'CONTINUOUS',\n",
    "                'gop_minus_dem_prc_2012;gop_minus_dem_prc_2008','gwr_residuals.shp',\n",
    "               \"NUMBER_OF_NEIGHBORS\",\"GOLDEN_SEARCH\")"
   ]
  },
  {
   "cell_type": "code",
   "execution_count": null,
   "metadata": {},
   "outputs": [],
   "source": []
  }
 ],
 "metadata": {
  "kernelspec": {
   "display_name": "Python 3",
   "language": "python",
   "name": "python3"
  },
  "language_info": {
   "codemirror_mode": {
    "name": "ipython",
    "version": 3
   },
   "file_extension": ".py",
   "mimetype": "text/x-python",
   "name": "python",
   "nbconvert_exporter": "python",
   "pygments_lexer": "ipython3",
   "version": "3.6.10"
  }
 },
 "nbformat": 4,
 "nbformat_minor": 4
}
