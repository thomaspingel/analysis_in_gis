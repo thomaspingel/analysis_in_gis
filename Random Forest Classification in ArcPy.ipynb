{
 "cells": [
  {
   "cell_type": "code",
   "execution_count": 25,
   "id": "d37d6039",
   "metadata": {},
   "outputs": [],
   "source": [
    "import arcpy\n",
    "from arcgis.gis import GIS\n",
    "gis = GIS()\n",
    "import pandas as pd"
   ]
  },
  {
   "cell_type": "code",
   "execution_count": 5,
   "id": "a1104992",
   "metadata": {},
   "outputs": [],
   "source": [
    "# Set property to overwrite existing outputs\n",
    "arcpy.env.overwriteOutput = True\n",
    "\n",
    "# Create working GDB\n",
    "arcpy.CreateFileGDB_management('.', 'forest.gdb')\n",
    "\n",
    "# Set the work space to a gdb\n",
    "arcpy.env.workspace = \"./forest.gdb\""
   ]
  },
  {
   "cell_type": "code",
   "execution_count": 6,
   "id": "9efabd9e",
   "metadata": {},
   "outputs": [],
   "source": [
    "features = arcpy.management.CopyFeatures('random_forest_classification_dataset.gpkg/main.random_forest_dataset','data')"
   ]
  },
  {
   "cell_type": "code",
   "execution_count": 19,
   "id": "90aedccb",
   "metadata": {},
   "outputs": [
    {
     "data": {
      "text/html": [
       "<div class='gpresult'><h2>Messages</h2><div id='messages' data-messages='[\"Start Time: Thursday, December 1, 2022 12:22:42 PM\",\"Random Seed: 118925\",\"WARNING 001605: Distances for Geographic Coordinates (degrees, minutes, seconds) are analyzed using Chordal Distances in meters.\",\"WARNING 000642: Problems reading 107 of 3221 total records.\",\"WARNING 000848: Features with bad records (only includes first 30): fid = 23, 54, 55, 56, 87, 118, 147, 182, 214, 243, 296, 596, 597, 598, 599, 602, 623, 638, 645, 646, 647, 649, 650, 651, 658, 665, 682, 706, 728, 752.\",\"WARNING 110236: The dataset is unbalanced, the variable to predict contains the following categories with low number of features: 0 [715]\",\"WARNING 110233: At least one explanatory variable contains a category with relatively few records. Consider re-running the tool using the Compensate for Sparse Categories option.\",\"\\n------------- Model Characteristics --------------\\nNumber of Trees                                100\\nLeaf Size                                        1\\nTree Depth Range                               1-1\\nMean Tree Depth                                  1\\n% of Training Available per Tree               100\\nNumber of Randomly Sampled Variables             1\\n% of Training Data Excluded for Validation      10\\n\\n------ Model Out of Bag Errors -------\\nNumber of Trees          50         100\\nMSE                   0.076       0.078\\n                                       \\n0                     0.133       0.138\\n1                     0.059       0.061\\n\\n------------------ Top Variable Importance -------------------\\nVariable                            Importance                %\\ngop_minus_dem_prc_2020                    0.34              100\\n\\n-- Training Data: Classification Diagnostics ---\\nCategory   F1-Score    MCC   Sensitivity   Accuracy\\n0              1.00   1.00          1.00       1.00\\n1              1.00   1.00          1.00       1.00\\n*Predictions for the data used to train the model compared to the observed categories for those features\\n\\n\\n- Validation Data: Classification Diagnostics --\\nCategory   F1-Score    MCC   Sensitivity   Accuracy\\n0              1.00   1.00          1.00       1.00\\n1              1.00   1.00          1.00       1.00\\n*Predictions for the test data (excluded from model training) compared to the observed values for those test features\\n\",\"\\n-------------------------- Explanatory Variable Range Diagnostics -------------------------\\nVariable                 Training             Validation                   Share                \\n                         Minimum    Maximum   Minimum      Maximum   Training(a)   Validation(b)\\ngop_minus_dem_prc_2020   -80.53     93.09     -72.54       88.93            1.00           0.93*\\n(a) % of overlap between the ranges of the training data and the input explanatory variable\\n(b) % of overlap between the ranges of the validation data and the training data\\n*  Data ranges do not coincide. Training or validation is occurring with incomplete data.\\n+  Ranges of the training data and prediction data do not coincide and the tool is attempting to extrapolate.\\n\",\"Succeeded at Thursday, December 1, 2022 12:22:44 PM (Elapsed Time: 2.41 seconds)\"]' data-show='true'><div id = 'default' /></div></div>"
      ],
      "text/plain": [
       "<Result ''>"
      ]
     },
     "execution_count": 19,
     "metadata": {},
     "output_type": "execute_result"
    }
   ],
   "source": [
    "prediction_type = \"TRAIN\"\n",
    "in_features = features\n",
    "variable_predict = \"landslide_2020\"\n",
    "treat_variable_as_categorical = \"true\"\n",
    "explanatory_variables = [[\"gop_minus_dem_prc_2020\", \"false\"]]\n",
    "output_trained_features = \"forest.gdb/trained\"\n",
    "output_features = \"\"\n",
    "number_of_trees = 100\n",
    "sample_size = 100\n",
    "percentage_for_training = 10\n",
    "\n",
    "arcpy.stats.Forest(prediction_type=\"TRAIN\",\n",
    "                   in_features=\"random_forest_classification_dataset.gpkg/main.random_forest_dataset\",\n",
    "                   variable_predict=\"landslide_2020\",\n",
    "                   treat_variable_as_categorical=\"true\",\n",
    "                   explanatory_variables = [[\"gop_minus_dem_prc_2020\", \"false\"]],\n",
    "                  output_trained_features = \"forest.gdb/trained\",\n",
    "                  percentage_for_training=10,\n",
    "                   output_classification_table=\"forest.gdb/confusion\")"
   ]
  },
  {
   "cell_type": "code",
   "execution_count": 27,
   "id": "7cfb3b04",
   "metadata": {},
   "outputs": [
    {
     "data": {
      "text/html": [
       "<div>\n",
       "<style scoped>\n",
       "    .dataframe tbody tr th:only-of-type {\n",
       "        vertical-align: middle;\n",
       "    }\n",
       "\n",
       "    .dataframe tbody tr th {\n",
       "        vertical-align: top;\n",
       "    }\n",
       "\n",
       "    .dataframe thead th {\n",
       "        text-align: right;\n",
       "    }\n",
       "</style>\n",
       "<table border=\"1\" class=\"dataframe\">\n",
       "  <thead>\n",
       "    <tr style=\"text-align: right;\">\n",
       "      <th></th>\n",
       "      <th>OBJECTID</th>\n",
       "      <th>CATEGORY</th>\n",
       "      <th>CAT_0</th>\n",
       "      <th>CAT_1</th>\n",
       "    </tr>\n",
       "  </thead>\n",
       "  <tbody>\n",
       "    <tr>\n",
       "      <th>0</th>\n",
       "      <td>1</td>\n",
       "      <td>CAT_0</td>\n",
       "      <td>70</td>\n",
       "      <td>0</td>\n",
       "    </tr>\n",
       "    <tr>\n",
       "      <th>1</th>\n",
       "      <td>2</td>\n",
       "      <td>CAT_1</td>\n",
       "      <td>0</td>\n",
       "      <td>241</td>\n",
       "    </tr>\n",
       "  </tbody>\n",
       "</table>\n",
       "</div>"
      ],
      "text/plain": [
       "   OBJECTID CATEGORY  CAT_0  CAT_1\n",
       "0         1    CAT_0     70      0\n",
       "1         2    CAT_1      0    241"
      ]
     },
     "execution_count": 27,
     "metadata": {},
     "output_type": "execute_result"
    }
   ],
   "source": [
    "df = pd.DataFrame.spatial.from_table('confusion')\n",
    "df"
   ]
  },
  {
   "cell_type": "code",
   "execution_count": null,
   "id": "376985e8",
   "metadata": {},
   "outputs": [],
   "source": []
  }
 ],
 "metadata": {
  "kernelspec": {
   "display_name": "Python 3",
   "language": "python",
   "name": "python3"
  },
  "language_info": {
   "codemirror_mode": {
    "name": "ipython",
    "version": 3
   },
   "file_extension": ".py",
   "mimetype": "text/x-python",
   "name": "python",
   "nbconvert_exporter": "python",
   "pygments_lexer": "ipython3",
   "version": "3.9.11"
  }
 },
 "nbformat": 4,
 "nbformat_minor": 5
}
